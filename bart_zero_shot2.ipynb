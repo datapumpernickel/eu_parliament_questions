{
  "nbformat": 4,
  "nbformat_minor": 0,
  "metadata": {
    "kernelspec": {
      "display_name": "Python 3",
      "language": "python",
      "name": "python3"
    },
    "language_info": {
      "codemirror_mode": {
        "name": "ipython",
        "version": 3
      },
      "file_extension": ".py",
      "mimetype": "text/x-python",
      "name": "python",
      "nbconvert_exporter": "python",
      "pygments_lexer": "ipython3",
      "version": "3.8.2"
    },
    "colab": {
      "name": "bart_zero_shot.ipynb",
      "provenance": []
    },
    "accelerator": "GPU",
    "widgets": {
      "application/vnd.jupyter.widget-state+json": {
        "187fedf245b34841a58fc04671064489": {
          "model_module": "@jupyter-widgets/controls",
          "model_name": "HBoxModel",
          "state": {
            "_view_name": "HBoxView",
            "_dom_classes": [],
            "_model_name": "HBoxModel",
            "_view_module": "@jupyter-widgets/controls",
            "_model_module_version": "1.5.0",
            "_view_count": null,
            "_view_module_version": "1.5.0",
            "box_style": "",
            "layout": "IPY_MODEL_a1baa34ed3f845e2aaee034766b82123",
            "_model_module": "@jupyter-widgets/controls",
            "children": [
              "IPY_MODEL_b8c8e55c42d5408f993c7257bcda4b70",
              "IPY_MODEL_b0f2905248834293acb3f118441821ec"
            ]
          }
        },
        "a1baa34ed3f845e2aaee034766b82123": {
          "model_module": "@jupyter-widgets/base",
          "model_name": "LayoutModel",
          "state": {
            "_view_name": "LayoutView",
            "grid_template_rows": null,
            "right": null,
            "justify_content": null,
            "_view_module": "@jupyter-widgets/base",
            "overflow": null,
            "_model_module_version": "1.2.0",
            "_view_count": null,
            "flex_flow": null,
            "width": null,
            "min_width": null,
            "border": null,
            "align_items": null,
            "bottom": null,
            "_model_module": "@jupyter-widgets/base",
            "top": null,
            "grid_column": null,
            "overflow_y": null,
            "overflow_x": null,
            "grid_auto_flow": null,
            "grid_area": null,
            "grid_template_columns": null,
            "flex": null,
            "_model_name": "LayoutModel",
            "justify_items": null,
            "grid_row": null,
            "max_height": null,
            "align_content": null,
            "visibility": null,
            "align_self": null,
            "height": null,
            "min_height": null,
            "padding": null,
            "grid_auto_rows": null,
            "grid_gap": null,
            "max_width": null,
            "order": null,
            "_view_module_version": "1.2.0",
            "grid_template_areas": null,
            "object_position": null,
            "object_fit": null,
            "grid_auto_columns": null,
            "margin": null,
            "display": null,
            "left": null
          }
        },
        "b8c8e55c42d5408f993c7257bcda4b70": {
          "model_module": "@jupyter-widgets/controls",
          "model_name": "FloatProgressModel",
          "state": {
            "_view_name": "ProgressView",
            "style": "IPY_MODEL_40e4b71402e243b99a3f82c96cec8d9e",
            "_dom_classes": [],
            "description": "Downloading: 100%",
            "_model_name": "FloatProgressModel",
            "bar_style": "success",
            "max": 908,
            "_view_module": "@jupyter-widgets/controls",
            "_model_module_version": "1.5.0",
            "value": 908,
            "_view_count": null,
            "_view_module_version": "1.5.0",
            "orientation": "horizontal",
            "min": 0,
            "description_tooltip": null,
            "_model_module": "@jupyter-widgets/controls",
            "layout": "IPY_MODEL_e139e624ff624a9d818eb89ab81fc9d3"
          }
        },
        "b0f2905248834293acb3f118441821ec": {
          "model_module": "@jupyter-widgets/controls",
          "model_name": "HTMLModel",
          "state": {
            "_view_name": "HTMLView",
            "style": "IPY_MODEL_a0b9d079c7114f709f30ec5884165c8c",
            "_dom_classes": [],
            "description": "",
            "_model_name": "HTMLModel",
            "placeholder": "​",
            "_view_module": "@jupyter-widgets/controls",
            "_model_module_version": "1.5.0",
            "value": " 908/908 [00:00&lt;00:00, 10.2kB/s]",
            "_view_count": null,
            "_view_module_version": "1.5.0",
            "description_tooltip": null,
            "_model_module": "@jupyter-widgets/controls",
            "layout": "IPY_MODEL_a783de12daa74b9587cd9ca14bc4222f"
          }
        },
        "40e4b71402e243b99a3f82c96cec8d9e": {
          "model_module": "@jupyter-widgets/controls",
          "model_name": "ProgressStyleModel",
          "state": {
            "_view_name": "StyleView",
            "_model_name": "ProgressStyleModel",
            "description_width": "initial",
            "_view_module": "@jupyter-widgets/base",
            "_model_module_version": "1.5.0",
            "_view_count": null,
            "_view_module_version": "1.2.0",
            "bar_color": null,
            "_model_module": "@jupyter-widgets/controls"
          }
        },
        "e139e624ff624a9d818eb89ab81fc9d3": {
          "model_module": "@jupyter-widgets/base",
          "model_name": "LayoutModel",
          "state": {
            "_view_name": "LayoutView",
            "grid_template_rows": null,
            "right": null,
            "justify_content": null,
            "_view_module": "@jupyter-widgets/base",
            "overflow": null,
            "_model_module_version": "1.2.0",
            "_view_count": null,
            "flex_flow": null,
            "width": null,
            "min_width": null,
            "border": null,
            "align_items": null,
            "bottom": null,
            "_model_module": "@jupyter-widgets/base",
            "top": null,
            "grid_column": null,
            "overflow_y": null,
            "overflow_x": null,
            "grid_auto_flow": null,
            "grid_area": null,
            "grid_template_columns": null,
            "flex": null,
            "_model_name": "LayoutModel",
            "justify_items": null,
            "grid_row": null,
            "max_height": null,
            "align_content": null,
            "visibility": null,
            "align_self": null,
            "height": null,
            "min_height": null,
            "padding": null,
            "grid_auto_rows": null,
            "grid_gap": null,
            "max_width": null,
            "order": null,
            "_view_module_version": "1.2.0",
            "grid_template_areas": null,
            "object_position": null,
            "object_fit": null,
            "grid_auto_columns": null,
            "margin": null,
            "display": null,
            "left": null
          }
        },
        "a0b9d079c7114f709f30ec5884165c8c": {
          "model_module": "@jupyter-widgets/controls",
          "model_name": "DescriptionStyleModel",
          "state": {
            "_view_name": "StyleView",
            "_model_name": "DescriptionStyleModel",
            "description_width": "",
            "_view_module": "@jupyter-widgets/base",
            "_model_module_version": "1.5.0",
            "_view_count": null,
            "_view_module_version": "1.2.0",
            "_model_module": "@jupyter-widgets/controls"
          }
        },
        "a783de12daa74b9587cd9ca14bc4222f": {
          "model_module": "@jupyter-widgets/base",
          "model_name": "LayoutModel",
          "state": {
            "_view_name": "LayoutView",
            "grid_template_rows": null,
            "right": null,
            "justify_content": null,
            "_view_module": "@jupyter-widgets/base",
            "overflow": null,
            "_model_module_version": "1.2.0",
            "_view_count": null,
            "flex_flow": null,
            "width": null,
            "min_width": null,
            "border": null,
            "align_items": null,
            "bottom": null,
            "_model_module": "@jupyter-widgets/base",
            "top": null,
            "grid_column": null,
            "overflow_y": null,
            "overflow_x": null,
            "grid_auto_flow": null,
            "grid_area": null,
            "grid_template_columns": null,
            "flex": null,
            "_model_name": "LayoutModel",
            "justify_items": null,
            "grid_row": null,
            "max_height": null,
            "align_content": null,
            "visibility": null,
            "align_self": null,
            "height": null,
            "min_height": null,
            "padding": null,
            "grid_auto_rows": null,
            "grid_gap": null,
            "max_width": null,
            "order": null,
            "_view_module_version": "1.2.0",
            "grid_template_areas": null,
            "object_position": null,
            "object_fit": null,
            "grid_auto_columns": null,
            "margin": null,
            "display": null,
            "left": null
          }
        },
        "2e4c4d820ef44118becb24c7b5068847": {
          "model_module": "@jupyter-widgets/controls",
          "model_name": "HBoxModel",
          "state": {
            "_view_name": "HBoxView",
            "_dom_classes": [],
            "_model_name": "HBoxModel",
            "_view_module": "@jupyter-widgets/controls",
            "_model_module_version": "1.5.0",
            "_view_count": null,
            "_view_module_version": "1.5.0",
            "box_style": "",
            "layout": "IPY_MODEL_43d19a15373b4c668b9ff83d500928b5",
            "_model_module": "@jupyter-widgets/controls",
            "children": [
              "IPY_MODEL_2afeb71de0764e399986672d7cc11e8d",
              "IPY_MODEL_c988a2aa7da4467b87c67f296e69fe99"
            ]
          }
        },
        "43d19a15373b4c668b9ff83d500928b5": {
          "model_module": "@jupyter-widgets/base",
          "model_name": "LayoutModel",
          "state": {
            "_view_name": "LayoutView",
            "grid_template_rows": null,
            "right": null,
            "justify_content": null,
            "_view_module": "@jupyter-widgets/base",
            "overflow": null,
            "_model_module_version": "1.2.0",
            "_view_count": null,
            "flex_flow": null,
            "width": null,
            "min_width": null,
            "border": null,
            "align_items": null,
            "bottom": null,
            "_model_module": "@jupyter-widgets/base",
            "top": null,
            "grid_column": null,
            "overflow_y": null,
            "overflow_x": null,
            "grid_auto_flow": null,
            "grid_area": null,
            "grid_template_columns": null,
            "flex": null,
            "_model_name": "LayoutModel",
            "justify_items": null,
            "grid_row": null,
            "max_height": null,
            "align_content": null,
            "visibility": null,
            "align_self": null,
            "height": null,
            "min_height": null,
            "padding": null,
            "grid_auto_rows": null,
            "grid_gap": null,
            "max_width": null,
            "order": null,
            "_view_module_version": "1.2.0",
            "grid_template_areas": null,
            "object_position": null,
            "object_fit": null,
            "grid_auto_columns": null,
            "margin": null,
            "display": null,
            "left": null
          }
        },
        "2afeb71de0764e399986672d7cc11e8d": {
          "model_module": "@jupyter-widgets/controls",
          "model_name": "FloatProgressModel",
          "state": {
            "_view_name": "ProgressView",
            "style": "IPY_MODEL_16461e7a52e2488ca912ebb2268d0520",
            "_dom_classes": [],
            "description": "Downloading: 100%",
            "_model_name": "FloatProgressModel",
            "bar_style": "success",
            "max": 1629486723,
            "_view_module": "@jupyter-widgets/controls",
            "_model_module_version": "1.5.0",
            "value": 1629486723,
            "_view_count": null,
            "_view_module_version": "1.5.0",
            "orientation": "horizontal",
            "min": 0,
            "description_tooltip": null,
            "_model_module": "@jupyter-widgets/controls",
            "layout": "IPY_MODEL_8621efafa082400484b25c83f42c1587"
          }
        },
        "c988a2aa7da4467b87c67f296e69fe99": {
          "model_module": "@jupyter-widgets/controls",
          "model_name": "HTMLModel",
          "state": {
            "_view_name": "HTMLView",
            "style": "IPY_MODEL_6dc8d74082294a5598ae5b422e4cc00d",
            "_dom_classes": [],
            "description": "",
            "_model_name": "HTMLModel",
            "placeholder": "​",
            "_view_module": "@jupyter-widgets/controls",
            "_model_module_version": "1.5.0",
            "value": " 1.63G/1.63G [00:29&lt;00:00, 54.8MB/s]",
            "_view_count": null,
            "_view_module_version": "1.5.0",
            "description_tooltip": null,
            "_model_module": "@jupyter-widgets/controls",
            "layout": "IPY_MODEL_58168c3c80174793a3c9ce4b37242540"
          }
        },
        "16461e7a52e2488ca912ebb2268d0520": {
          "model_module": "@jupyter-widgets/controls",
          "model_name": "ProgressStyleModel",
          "state": {
            "_view_name": "StyleView",
            "_model_name": "ProgressStyleModel",
            "description_width": "initial",
            "_view_module": "@jupyter-widgets/base",
            "_model_module_version": "1.5.0",
            "_view_count": null,
            "_view_module_version": "1.2.0",
            "bar_color": null,
            "_model_module": "@jupyter-widgets/controls"
          }
        },
        "8621efafa082400484b25c83f42c1587": {
          "model_module": "@jupyter-widgets/base",
          "model_name": "LayoutModel",
          "state": {
            "_view_name": "LayoutView",
            "grid_template_rows": null,
            "right": null,
            "justify_content": null,
            "_view_module": "@jupyter-widgets/base",
            "overflow": null,
            "_model_module_version": "1.2.0",
            "_view_count": null,
            "flex_flow": null,
            "width": null,
            "min_width": null,
            "border": null,
            "align_items": null,
            "bottom": null,
            "_model_module": "@jupyter-widgets/base",
            "top": null,
            "grid_column": null,
            "overflow_y": null,
            "overflow_x": null,
            "grid_auto_flow": null,
            "grid_area": null,
            "grid_template_columns": null,
            "flex": null,
            "_model_name": "LayoutModel",
            "justify_items": null,
            "grid_row": null,
            "max_height": null,
            "align_content": null,
            "visibility": null,
            "align_self": null,
            "height": null,
            "min_height": null,
            "padding": null,
            "grid_auto_rows": null,
            "grid_gap": null,
            "max_width": null,
            "order": null,
            "_view_module_version": "1.2.0",
            "grid_template_areas": null,
            "object_position": null,
            "object_fit": null,
            "grid_auto_columns": null,
            "margin": null,
            "display": null,
            "left": null
          }
        },
        "6dc8d74082294a5598ae5b422e4cc00d": {
          "model_module": "@jupyter-widgets/controls",
          "model_name": "DescriptionStyleModel",
          "state": {
            "_view_name": "StyleView",
            "_model_name": "DescriptionStyleModel",
            "description_width": "",
            "_view_module": "@jupyter-widgets/base",
            "_model_module_version": "1.5.0",
            "_view_count": null,
            "_view_module_version": "1.2.0",
            "_model_module": "@jupyter-widgets/controls"
          }
        },
        "58168c3c80174793a3c9ce4b37242540": {
          "model_module": "@jupyter-widgets/base",
          "model_name": "LayoutModel",
          "state": {
            "_view_name": "LayoutView",
            "grid_template_rows": null,
            "right": null,
            "justify_content": null,
            "_view_module": "@jupyter-widgets/base",
            "overflow": null,
            "_model_module_version": "1.2.0",
            "_view_count": null,
            "flex_flow": null,
            "width": null,
            "min_width": null,
            "border": null,
            "align_items": null,
            "bottom": null,
            "_model_module": "@jupyter-widgets/base",
            "top": null,
            "grid_column": null,
            "overflow_y": null,
            "overflow_x": null,
            "grid_auto_flow": null,
            "grid_area": null,
            "grid_template_columns": null,
            "flex": null,
            "_model_name": "LayoutModel",
            "justify_items": null,
            "grid_row": null,
            "max_height": null,
            "align_content": null,
            "visibility": null,
            "align_self": null,
            "height": null,
            "min_height": null,
            "padding": null,
            "grid_auto_rows": null,
            "grid_gap": null,
            "max_width": null,
            "order": null,
            "_view_module_version": "1.2.0",
            "grid_template_areas": null,
            "object_position": null,
            "object_fit": null,
            "grid_auto_columns": null,
            "margin": null,
            "display": null,
            "left": null
          }
        },
        "5457ddf9daea4b7f9c451b876053aeba": {
          "model_module": "@jupyter-widgets/controls",
          "model_name": "HBoxModel",
          "state": {
            "_view_name": "HBoxView",
            "_dom_classes": [],
            "_model_name": "HBoxModel",
            "_view_module": "@jupyter-widgets/controls",
            "_model_module_version": "1.5.0",
            "_view_count": null,
            "_view_module_version": "1.5.0",
            "box_style": "",
            "layout": "IPY_MODEL_9d651a0f991b463ca563887e3683896f",
            "_model_module": "@jupyter-widgets/controls",
            "children": [
              "IPY_MODEL_76d4e1a060cf44e6896193c60d27bbe0",
              "IPY_MODEL_78b40d0fc96f43159006ab2fa97b3856"
            ]
          }
        },
        "9d651a0f991b463ca563887e3683896f": {
          "model_module": "@jupyter-widgets/base",
          "model_name": "LayoutModel",
          "state": {
            "_view_name": "LayoutView",
            "grid_template_rows": null,
            "right": null,
            "justify_content": null,
            "_view_module": "@jupyter-widgets/base",
            "overflow": null,
            "_model_module_version": "1.2.0",
            "_view_count": null,
            "flex_flow": null,
            "width": null,
            "min_width": null,
            "border": null,
            "align_items": null,
            "bottom": null,
            "_model_module": "@jupyter-widgets/base",
            "top": null,
            "grid_column": null,
            "overflow_y": null,
            "overflow_x": null,
            "grid_auto_flow": null,
            "grid_area": null,
            "grid_template_columns": null,
            "flex": null,
            "_model_name": "LayoutModel",
            "justify_items": null,
            "grid_row": null,
            "max_height": null,
            "align_content": null,
            "visibility": null,
            "align_self": null,
            "height": null,
            "min_height": null,
            "padding": null,
            "grid_auto_rows": null,
            "grid_gap": null,
            "max_width": null,
            "order": null,
            "_view_module_version": "1.2.0",
            "grid_template_areas": null,
            "object_position": null,
            "object_fit": null,
            "grid_auto_columns": null,
            "margin": null,
            "display": null,
            "left": null
          }
        },
        "76d4e1a060cf44e6896193c60d27bbe0": {
          "model_module": "@jupyter-widgets/controls",
          "model_name": "FloatProgressModel",
          "state": {
            "_view_name": "ProgressView",
            "style": "IPY_MODEL_427996fbd7c54d7aa85ebdcc455cbf8f",
            "_dom_classes": [],
            "description": "Downloading: 100%",
            "_model_name": "FloatProgressModel",
            "bar_style": "success",
            "max": 898823,
            "_view_module": "@jupyter-widgets/controls",
            "_model_module_version": "1.5.0",
            "value": 898823,
            "_view_count": null,
            "_view_module_version": "1.5.0",
            "orientation": "horizontal",
            "min": 0,
            "description_tooltip": null,
            "_model_module": "@jupyter-widgets/controls",
            "layout": "IPY_MODEL_284a9713992d4a238fe4ada3cf5f08e4"
          }
        },
        "78b40d0fc96f43159006ab2fa97b3856": {
          "model_module": "@jupyter-widgets/controls",
          "model_name": "HTMLModel",
          "state": {
            "_view_name": "HTMLView",
            "style": "IPY_MODEL_9aed2186b9ef41578b3cb2cafa3a1a1d",
            "_dom_classes": [],
            "description": "",
            "_model_name": "HTMLModel",
            "placeholder": "​",
            "_view_module": "@jupyter-widgets/controls",
            "_model_module_version": "1.5.0",
            "value": " 899k/899k [00:00&lt;00:00, 3.92MB/s]",
            "_view_count": null,
            "_view_module_version": "1.5.0",
            "description_tooltip": null,
            "_model_module": "@jupyter-widgets/controls",
            "layout": "IPY_MODEL_38296bf0a9c14c039b456f09eeed920c"
          }
        },
        "427996fbd7c54d7aa85ebdcc455cbf8f": {
          "model_module": "@jupyter-widgets/controls",
          "model_name": "ProgressStyleModel",
          "state": {
            "_view_name": "StyleView",
            "_model_name": "ProgressStyleModel",
            "description_width": "initial",
            "_view_module": "@jupyter-widgets/base",
            "_model_module_version": "1.5.0",
            "_view_count": null,
            "_view_module_version": "1.2.0",
            "bar_color": null,
            "_model_module": "@jupyter-widgets/controls"
          }
        },
        "284a9713992d4a238fe4ada3cf5f08e4": {
          "model_module": "@jupyter-widgets/base",
          "model_name": "LayoutModel",
          "state": {
            "_view_name": "LayoutView",
            "grid_template_rows": null,
            "right": null,
            "justify_content": null,
            "_view_module": "@jupyter-widgets/base",
            "overflow": null,
            "_model_module_version": "1.2.0",
            "_view_count": null,
            "flex_flow": null,
            "width": null,
            "min_width": null,
            "border": null,
            "align_items": null,
            "bottom": null,
            "_model_module": "@jupyter-widgets/base",
            "top": null,
            "grid_column": null,
            "overflow_y": null,
            "overflow_x": null,
            "grid_auto_flow": null,
            "grid_area": null,
            "grid_template_columns": null,
            "flex": null,
            "_model_name": "LayoutModel",
            "justify_items": null,
            "grid_row": null,
            "max_height": null,
            "align_content": null,
            "visibility": null,
            "align_self": null,
            "height": null,
            "min_height": null,
            "padding": null,
            "grid_auto_rows": null,
            "grid_gap": null,
            "max_width": null,
            "order": null,
            "_view_module_version": "1.2.0",
            "grid_template_areas": null,
            "object_position": null,
            "object_fit": null,
            "grid_auto_columns": null,
            "margin": null,
            "display": null,
            "left": null
          }
        },
        "9aed2186b9ef41578b3cb2cafa3a1a1d": {
          "model_module": "@jupyter-widgets/controls",
          "model_name": "DescriptionStyleModel",
          "state": {
            "_view_name": "StyleView",
            "_model_name": "DescriptionStyleModel",
            "description_width": "",
            "_view_module": "@jupyter-widgets/base",
            "_model_module_version": "1.5.0",
            "_view_count": null,
            "_view_module_version": "1.2.0",
            "_model_module": "@jupyter-widgets/controls"
          }
        },
        "38296bf0a9c14c039b456f09eeed920c": {
          "model_module": "@jupyter-widgets/base",
          "model_name": "LayoutModel",
          "state": {
            "_view_name": "LayoutView",
            "grid_template_rows": null,
            "right": null,
            "justify_content": null,
            "_view_module": "@jupyter-widgets/base",
            "overflow": null,
            "_model_module_version": "1.2.0",
            "_view_count": null,
            "flex_flow": null,
            "width": null,
            "min_width": null,
            "border": null,
            "align_items": null,
            "bottom": null,
            "_model_module": "@jupyter-widgets/base",
            "top": null,
            "grid_column": null,
            "overflow_y": null,
            "overflow_x": null,
            "grid_auto_flow": null,
            "grid_area": null,
            "grid_template_columns": null,
            "flex": null,
            "_model_name": "LayoutModel",
            "justify_items": null,
            "grid_row": null,
            "max_height": null,
            "align_content": null,
            "visibility": null,
            "align_self": null,
            "height": null,
            "min_height": null,
            "padding": null,
            "grid_auto_rows": null,
            "grid_gap": null,
            "max_width": null,
            "order": null,
            "_view_module_version": "1.2.0",
            "grid_template_areas": null,
            "object_position": null,
            "object_fit": null,
            "grid_auto_columns": null,
            "margin": null,
            "display": null,
            "left": null
          }
        },
        "e4ab7967895f43358d28cf3822171fd4": {
          "model_module": "@jupyter-widgets/controls",
          "model_name": "HBoxModel",
          "state": {
            "_view_name": "HBoxView",
            "_dom_classes": [],
            "_model_name": "HBoxModel",
            "_view_module": "@jupyter-widgets/controls",
            "_model_module_version": "1.5.0",
            "_view_count": null,
            "_view_module_version": "1.5.0",
            "box_style": "",
            "layout": "IPY_MODEL_690a6f2756ba47cfb885951c573a0cb1",
            "_model_module": "@jupyter-widgets/controls",
            "children": [
              "IPY_MODEL_bb928a0fd470492692fc993cf78f878e",
              "IPY_MODEL_52ddf11fec6d43bd9ae3acfdf1095eea"
            ]
          }
        },
        "690a6f2756ba47cfb885951c573a0cb1": {
          "model_module": "@jupyter-widgets/base",
          "model_name": "LayoutModel",
          "state": {
            "_view_name": "LayoutView",
            "grid_template_rows": null,
            "right": null,
            "justify_content": null,
            "_view_module": "@jupyter-widgets/base",
            "overflow": null,
            "_model_module_version": "1.2.0",
            "_view_count": null,
            "flex_flow": null,
            "width": null,
            "min_width": null,
            "border": null,
            "align_items": null,
            "bottom": null,
            "_model_module": "@jupyter-widgets/base",
            "top": null,
            "grid_column": null,
            "overflow_y": null,
            "overflow_x": null,
            "grid_auto_flow": null,
            "grid_area": null,
            "grid_template_columns": null,
            "flex": null,
            "_model_name": "LayoutModel",
            "justify_items": null,
            "grid_row": null,
            "max_height": null,
            "align_content": null,
            "visibility": null,
            "align_self": null,
            "height": null,
            "min_height": null,
            "padding": null,
            "grid_auto_rows": null,
            "grid_gap": null,
            "max_width": null,
            "order": null,
            "_view_module_version": "1.2.0",
            "grid_template_areas": null,
            "object_position": null,
            "object_fit": null,
            "grid_auto_columns": null,
            "margin": null,
            "display": null,
            "left": null
          }
        },
        "bb928a0fd470492692fc993cf78f878e": {
          "model_module": "@jupyter-widgets/controls",
          "model_name": "FloatProgressModel",
          "state": {
            "_view_name": "ProgressView",
            "style": "IPY_MODEL_cec444aea7fc414bb06b383c15fa2b34",
            "_dom_classes": [],
            "description": "Downloading: 100%",
            "_model_name": "FloatProgressModel",
            "bar_style": "success",
            "max": 456318,
            "_view_module": "@jupyter-widgets/controls",
            "_model_module_version": "1.5.0",
            "value": 456318,
            "_view_count": null,
            "_view_module_version": "1.5.0",
            "orientation": "horizontal",
            "min": 0,
            "description_tooltip": null,
            "_model_module": "@jupyter-widgets/controls",
            "layout": "IPY_MODEL_8e9de376367b4957a0365ced0a6d5d49"
          }
        },
        "52ddf11fec6d43bd9ae3acfdf1095eea": {
          "model_module": "@jupyter-widgets/controls",
          "model_name": "HTMLModel",
          "state": {
            "_view_name": "HTMLView",
            "style": "IPY_MODEL_9594cf23425049a9a2690835919f3613",
            "_dom_classes": [],
            "description": "",
            "_model_name": "HTMLModel",
            "placeholder": "​",
            "_view_module": "@jupyter-widgets/controls",
            "_model_module_version": "1.5.0",
            "value": " 456k/456k [00:00&lt;00:00, 3.83MB/s]",
            "_view_count": null,
            "_view_module_version": "1.5.0",
            "description_tooltip": null,
            "_model_module": "@jupyter-widgets/controls",
            "layout": "IPY_MODEL_d99d5ab3e6054efa8263bacd7c6a5bda"
          }
        },
        "cec444aea7fc414bb06b383c15fa2b34": {
          "model_module": "@jupyter-widgets/controls",
          "model_name": "ProgressStyleModel",
          "state": {
            "_view_name": "StyleView",
            "_model_name": "ProgressStyleModel",
            "description_width": "initial",
            "_view_module": "@jupyter-widgets/base",
            "_model_module_version": "1.5.0",
            "_view_count": null,
            "_view_module_version": "1.2.0",
            "bar_color": null,
            "_model_module": "@jupyter-widgets/controls"
          }
        },
        "8e9de376367b4957a0365ced0a6d5d49": {
          "model_module": "@jupyter-widgets/base",
          "model_name": "LayoutModel",
          "state": {
            "_view_name": "LayoutView",
            "grid_template_rows": null,
            "right": null,
            "justify_content": null,
            "_view_module": "@jupyter-widgets/base",
            "overflow": null,
            "_model_module_version": "1.2.0",
            "_view_count": null,
            "flex_flow": null,
            "width": null,
            "min_width": null,
            "border": null,
            "align_items": null,
            "bottom": null,
            "_model_module": "@jupyter-widgets/base",
            "top": null,
            "grid_column": null,
            "overflow_y": null,
            "overflow_x": null,
            "grid_auto_flow": null,
            "grid_area": null,
            "grid_template_columns": null,
            "flex": null,
            "_model_name": "LayoutModel",
            "justify_items": null,
            "grid_row": null,
            "max_height": null,
            "align_content": null,
            "visibility": null,
            "align_self": null,
            "height": null,
            "min_height": null,
            "padding": null,
            "grid_auto_rows": null,
            "grid_gap": null,
            "max_width": null,
            "order": null,
            "_view_module_version": "1.2.0",
            "grid_template_areas": null,
            "object_position": null,
            "object_fit": null,
            "grid_auto_columns": null,
            "margin": null,
            "display": null,
            "left": null
          }
        },
        "9594cf23425049a9a2690835919f3613": {
          "model_module": "@jupyter-widgets/controls",
          "model_name": "DescriptionStyleModel",
          "state": {
            "_view_name": "StyleView",
            "_model_name": "DescriptionStyleModel",
            "description_width": "",
            "_view_module": "@jupyter-widgets/base",
            "_model_module_version": "1.5.0",
            "_view_count": null,
            "_view_module_version": "1.2.0",
            "_model_module": "@jupyter-widgets/controls"
          }
        },
        "d99d5ab3e6054efa8263bacd7c6a5bda": {
          "model_module": "@jupyter-widgets/base",
          "model_name": "LayoutModel",
          "state": {
            "_view_name": "LayoutView",
            "grid_template_rows": null,
            "right": null,
            "justify_content": null,
            "_view_module": "@jupyter-widgets/base",
            "overflow": null,
            "_model_module_version": "1.2.0",
            "_view_count": null,
            "flex_flow": null,
            "width": null,
            "min_width": null,
            "border": null,
            "align_items": null,
            "bottom": null,
            "_model_module": "@jupyter-widgets/base",
            "top": null,
            "grid_column": null,
            "overflow_y": null,
            "overflow_x": null,
            "grid_auto_flow": null,
            "grid_area": null,
            "grid_template_columns": null,
            "flex": null,
            "_model_name": "LayoutModel",
            "justify_items": null,
            "grid_row": null,
            "max_height": null,
            "align_content": null,
            "visibility": null,
            "align_self": null,
            "height": null,
            "min_height": null,
            "padding": null,
            "grid_auto_rows": null,
            "grid_gap": null,
            "max_width": null,
            "order": null,
            "_view_module_version": "1.2.0",
            "grid_template_areas": null,
            "object_position": null,
            "object_fit": null,
            "grid_auto_columns": null,
            "margin": null,
            "display": null,
            "left": null
          }
        },
        "645f022d5ac1476fbb582c6470ccd20f": {
          "model_module": "@jupyter-widgets/controls",
          "model_name": "HBoxModel",
          "state": {
            "_view_name": "HBoxView",
            "_dom_classes": [],
            "_model_name": "HBoxModel",
            "_view_module": "@jupyter-widgets/controls",
            "_model_module_version": "1.5.0",
            "_view_count": null,
            "_view_module_version": "1.5.0",
            "box_style": "",
            "layout": "IPY_MODEL_4b8203ff73ae48dd8f6d1803a43be3f8",
            "_model_module": "@jupyter-widgets/controls",
            "children": [
              "IPY_MODEL_0bedc845f6ae4a5889d8df31f372d2a4",
              "IPY_MODEL_ab42598b48554e6983984a94f8b3de75"
            ]
          }
        },
        "4b8203ff73ae48dd8f6d1803a43be3f8": {
          "model_module": "@jupyter-widgets/base",
          "model_name": "LayoutModel",
          "state": {
            "_view_name": "LayoutView",
            "grid_template_rows": null,
            "right": null,
            "justify_content": null,
            "_view_module": "@jupyter-widgets/base",
            "overflow": null,
            "_model_module_version": "1.2.0",
            "_view_count": null,
            "flex_flow": null,
            "width": null,
            "min_width": null,
            "border": null,
            "align_items": null,
            "bottom": null,
            "_model_module": "@jupyter-widgets/base",
            "top": null,
            "grid_column": null,
            "overflow_y": null,
            "overflow_x": null,
            "grid_auto_flow": null,
            "grid_area": null,
            "grid_template_columns": null,
            "flex": null,
            "_model_name": "LayoutModel",
            "justify_items": null,
            "grid_row": null,
            "max_height": null,
            "align_content": null,
            "visibility": null,
            "align_self": null,
            "height": null,
            "min_height": null,
            "padding": null,
            "grid_auto_rows": null,
            "grid_gap": null,
            "max_width": null,
            "order": null,
            "_view_module_version": "1.2.0",
            "grid_template_areas": null,
            "object_position": null,
            "object_fit": null,
            "grid_auto_columns": null,
            "margin": null,
            "display": null,
            "left": null
          }
        },
        "0bedc845f6ae4a5889d8df31f372d2a4": {
          "model_module": "@jupyter-widgets/controls",
          "model_name": "FloatProgressModel",
          "state": {
            "_view_name": "ProgressView",
            "style": "IPY_MODEL_2db73bc9efdd4f09a1663504238fc59f",
            "_dom_classes": [],
            "description": "Downloading: 100%",
            "_model_name": "FloatProgressModel",
            "bar_style": "success",
            "max": 1355863,
            "_view_module": "@jupyter-widgets/controls",
            "_model_module_version": "1.5.0",
            "value": 1355863,
            "_view_count": null,
            "_view_module_version": "1.5.0",
            "orientation": "horizontal",
            "min": 0,
            "description_tooltip": null,
            "_model_module": "@jupyter-widgets/controls",
            "layout": "IPY_MODEL_ec82f9a6fce84f92bfdf74469e7626c1"
          }
        },
        "ab42598b48554e6983984a94f8b3de75": {
          "model_module": "@jupyter-widgets/controls",
          "model_name": "HTMLModel",
          "state": {
            "_view_name": "HTMLView",
            "style": "IPY_MODEL_d93d38802d5a4165a9da4bf7f0980da4",
            "_dom_classes": [],
            "description": "",
            "_model_name": "HTMLModel",
            "placeholder": "​",
            "_view_module": "@jupyter-widgets/controls",
            "_model_module_version": "1.5.0",
            "value": " 1.36M/1.36M [00:03&lt;00:00, 387kB/s]",
            "_view_count": null,
            "_view_module_version": "1.5.0",
            "description_tooltip": null,
            "_model_module": "@jupyter-widgets/controls",
            "layout": "IPY_MODEL_f1967cadc5134bf597b97129a4cde1d9"
          }
        },
        "2db73bc9efdd4f09a1663504238fc59f": {
          "model_module": "@jupyter-widgets/controls",
          "model_name": "ProgressStyleModel",
          "state": {
            "_view_name": "StyleView",
            "_model_name": "ProgressStyleModel",
            "description_width": "initial",
            "_view_module": "@jupyter-widgets/base",
            "_model_module_version": "1.5.0",
            "_view_count": null,
            "_view_module_version": "1.2.0",
            "bar_color": null,
            "_model_module": "@jupyter-widgets/controls"
          }
        },
        "ec82f9a6fce84f92bfdf74469e7626c1": {
          "model_module": "@jupyter-widgets/base",
          "model_name": "LayoutModel",
          "state": {
            "_view_name": "LayoutView",
            "grid_template_rows": null,
            "right": null,
            "justify_content": null,
            "_view_module": "@jupyter-widgets/base",
            "overflow": null,
            "_model_module_version": "1.2.0",
            "_view_count": null,
            "flex_flow": null,
            "width": null,
            "min_width": null,
            "border": null,
            "align_items": null,
            "bottom": null,
            "_model_module": "@jupyter-widgets/base",
            "top": null,
            "grid_column": null,
            "overflow_y": null,
            "overflow_x": null,
            "grid_auto_flow": null,
            "grid_area": null,
            "grid_template_columns": null,
            "flex": null,
            "_model_name": "LayoutModel",
            "justify_items": null,
            "grid_row": null,
            "max_height": null,
            "align_content": null,
            "visibility": null,
            "align_self": null,
            "height": null,
            "min_height": null,
            "padding": null,
            "grid_auto_rows": null,
            "grid_gap": null,
            "max_width": null,
            "order": null,
            "_view_module_version": "1.2.0",
            "grid_template_areas": null,
            "object_position": null,
            "object_fit": null,
            "grid_auto_columns": null,
            "margin": null,
            "display": null,
            "left": null
          }
        },
        "d93d38802d5a4165a9da4bf7f0980da4": {
          "model_module": "@jupyter-widgets/controls",
          "model_name": "DescriptionStyleModel",
          "state": {
            "_view_name": "StyleView",
            "_model_name": "DescriptionStyleModel",
            "description_width": "",
            "_view_module": "@jupyter-widgets/base",
            "_model_module_version": "1.5.0",
            "_view_count": null,
            "_view_module_version": "1.2.0",
            "_model_module": "@jupyter-widgets/controls"
          }
        },
        "f1967cadc5134bf597b97129a4cde1d9": {
          "model_module": "@jupyter-widgets/base",
          "model_name": "LayoutModel",
          "state": {
            "_view_name": "LayoutView",
            "grid_template_rows": null,
            "right": null,
            "justify_content": null,
            "_view_module": "@jupyter-widgets/base",
            "overflow": null,
            "_model_module_version": "1.2.0",
            "_view_count": null,
            "flex_flow": null,
            "width": null,
            "min_width": null,
            "border": null,
            "align_items": null,
            "bottom": null,
            "_model_module": "@jupyter-widgets/base",
            "top": null,
            "grid_column": null,
            "overflow_y": null,
            "overflow_x": null,
            "grid_auto_flow": null,
            "grid_area": null,
            "grid_template_columns": null,
            "flex": null,
            "_model_name": "LayoutModel",
            "justify_items": null,
            "grid_row": null,
            "max_height": null,
            "align_content": null,
            "visibility": null,
            "align_self": null,
            "height": null,
            "min_height": null,
            "padding": null,
            "grid_auto_rows": null,
            "grid_gap": null,
            "max_width": null,
            "order": null,
            "_view_module_version": "1.2.0",
            "grid_template_areas": null,
            "object_position": null,
            "object_fit": null,
            "grid_auto_columns": null,
            "margin": null,
            "display": null,
            "left": null
          }
        }
      }
    }
  },
  "cells": [
    {
      "cell_type": "code",
      "metadata": {
        "id": "ICFUdALFNQLF",
        "colab": {
          "base_uri": "https://localhost:8080/"
        },
        "outputId": "f66d700b-be6c-4b97-be46-73a86c035e66"
      },
      "source": [
        "!pip install transformers"
      ],
      "execution_count": 2,
      "outputs": [
        {
          "output_type": "stream",
          "text": [
            "Collecting transformers\n",
            "\u001b[?25l  Downloading https://files.pythonhosted.org/packages/f9/54/5ca07ec9569d2f232f3166de5457b63943882f7950ddfcc887732fc7fb23/transformers-4.3.3-py3-none-any.whl (1.9MB)\n",
            "\r\u001b[K     |▏                               | 10kB 22.2MB/s eta 0:00:01\r\u001b[K     |▍                               | 20kB 16.1MB/s eta 0:00:01\r\u001b[K     |▌                               | 30kB 11.4MB/s eta 0:00:01\r\u001b[K     |▊                               | 40kB 9.9MB/s eta 0:00:01\r\u001b[K     |▉                               | 51kB 9.8MB/s eta 0:00:01\r\u001b[K     |█                               | 61kB 11.3MB/s eta 0:00:01\r\u001b[K     |█▏                              | 71kB 11.6MB/s eta 0:00:01\r\u001b[K     |█▍                              | 81kB 11.6MB/s eta 0:00:01\r\u001b[K     |█▌                              | 92kB 12.0MB/s eta 0:00:01\r\u001b[K     |█▊                              | 102kB 12.1MB/s eta 0:00:01\r\u001b[K     |██                              | 112kB 12.1MB/s eta 0:00:01\r\u001b[K     |██                              | 122kB 12.1MB/s eta 0:00:01\r\u001b[K     |██▎                             | 133kB 12.1MB/s eta 0:00:01\r\u001b[K     |██▍                             | 143kB 12.1MB/s eta 0:00:01\r\u001b[K     |██▋                             | 153kB 12.1MB/s eta 0:00:01\r\u001b[K     |██▊                             | 163kB 12.1MB/s eta 0:00:01\r\u001b[K     |███                             | 174kB 12.1MB/s eta 0:00:01\r\u001b[K     |███                             | 184kB 12.1MB/s eta 0:00:01\r\u001b[K     |███▎                            | 194kB 12.1MB/s eta 0:00:01\r\u001b[K     |███▌                            | 204kB 12.1MB/s eta 0:00:01\r\u001b[K     |███▋                            | 215kB 12.1MB/s eta 0:00:01\r\u001b[K     |███▉                            | 225kB 12.1MB/s eta 0:00:01\r\u001b[K     |████                            | 235kB 12.1MB/s eta 0:00:01\r\u001b[K     |████▏                           | 245kB 12.1MB/s eta 0:00:01\r\u001b[K     |████▎                           | 256kB 12.1MB/s eta 0:00:01\r\u001b[K     |████▌                           | 266kB 12.1MB/s eta 0:00:01\r\u001b[K     |████▋                           | 276kB 12.1MB/s eta 0:00:01\r\u001b[K     |████▉                           | 286kB 12.1MB/s eta 0:00:01\r\u001b[K     |█████                           | 296kB 12.1MB/s eta 0:00:01\r\u001b[K     |█████▏                          | 307kB 12.1MB/s eta 0:00:01\r\u001b[K     |█████▍                          | 317kB 12.1MB/s eta 0:00:01\r\u001b[K     |█████▌                          | 327kB 12.1MB/s eta 0:00:01\r\u001b[K     |█████▊                          | 337kB 12.1MB/s eta 0:00:01\r\u001b[K     |█████▉                          | 348kB 12.1MB/s eta 0:00:01\r\u001b[K     |██████                          | 358kB 12.1MB/s eta 0:00:01\r\u001b[K     |██████▏                         | 368kB 12.1MB/s eta 0:00:01\r\u001b[K     |██████▍                         | 378kB 12.1MB/s eta 0:00:01\r\u001b[K     |██████▋                         | 389kB 12.1MB/s eta 0:00:01\r\u001b[K     |██████▊                         | 399kB 12.1MB/s eta 0:00:01\r\u001b[K     |███████                         | 409kB 12.1MB/s eta 0:00:01\r\u001b[K     |███████                         | 419kB 12.1MB/s eta 0:00:01\r\u001b[K     |███████▎                        | 430kB 12.1MB/s eta 0:00:01\r\u001b[K     |███████▍                        | 440kB 12.1MB/s eta 0:00:01\r\u001b[K     |███████▋                        | 450kB 12.1MB/s eta 0:00:01\r\u001b[K     |███████▊                        | 460kB 12.1MB/s eta 0:00:01\r\u001b[K     |████████                        | 471kB 12.1MB/s eta 0:00:01\r\u001b[K     |████████▏                       | 481kB 12.1MB/s eta 0:00:01\r\u001b[K     |████████▎                       | 491kB 12.1MB/s eta 0:00:01\r\u001b[K     |████████▌                       | 501kB 12.1MB/s eta 0:00:01\r\u001b[K     |████████▋                       | 512kB 12.1MB/s eta 0:00:01\r\u001b[K     |████████▉                       | 522kB 12.1MB/s eta 0:00:01\r\u001b[K     |█████████                       | 532kB 12.1MB/s eta 0:00:01\r\u001b[K     |█████████▏                      | 542kB 12.1MB/s eta 0:00:01\r\u001b[K     |█████████▎                      | 552kB 12.1MB/s eta 0:00:01\r\u001b[K     |█████████▌                      | 563kB 12.1MB/s eta 0:00:01\r\u001b[K     |█████████▊                      | 573kB 12.1MB/s eta 0:00:01\r\u001b[K     |█████████▉                      | 583kB 12.1MB/s eta 0:00:01\r\u001b[K     |██████████                      | 593kB 12.1MB/s eta 0:00:01\r\u001b[K     |██████████▏                     | 604kB 12.1MB/s eta 0:00:01\r\u001b[K     |██████████▍                     | 614kB 12.1MB/s eta 0:00:01\r\u001b[K     |██████████▌                     | 624kB 12.1MB/s eta 0:00:01\r\u001b[K     |██████████▊                     | 634kB 12.1MB/s eta 0:00:01\r\u001b[K     |██████████▉                     | 645kB 12.1MB/s eta 0:00:01\r\u001b[K     |███████████                     | 655kB 12.1MB/s eta 0:00:01\r\u001b[K     |███████████▎                    | 665kB 12.1MB/s eta 0:00:01\r\u001b[K     |███████████▍                    | 675kB 12.1MB/s eta 0:00:01\r\u001b[K     |███████████▋                    | 686kB 12.1MB/s eta 0:00:01\r\u001b[K     |███████████▊                    | 696kB 12.1MB/s eta 0:00:01\r\u001b[K     |████████████                    | 706kB 12.1MB/s eta 0:00:01\r\u001b[K     |████████████                    | 716kB 12.1MB/s eta 0:00:01\r\u001b[K     |████████████▎                   | 727kB 12.1MB/s eta 0:00:01\r\u001b[K     |████████████▍                   | 737kB 12.1MB/s eta 0:00:01\r\u001b[K     |████████████▋                   | 747kB 12.1MB/s eta 0:00:01\r\u001b[K     |████████████▉                   | 757kB 12.1MB/s eta 0:00:01\r\u001b[K     |█████████████                   | 768kB 12.1MB/s eta 0:00:01\r\u001b[K     |█████████████▏                  | 778kB 12.1MB/s eta 0:00:01\r\u001b[K     |█████████████▎                  | 788kB 12.1MB/s eta 0:00:01\r\u001b[K     |█████████████▌                  | 798kB 12.1MB/s eta 0:00:01\r\u001b[K     |█████████████▋                  | 808kB 12.1MB/s eta 0:00:01\r\u001b[K     |█████████████▉                  | 819kB 12.1MB/s eta 0:00:01\r\u001b[K     |██████████████                  | 829kB 12.1MB/s eta 0:00:01\r\u001b[K     |██████████████▏                 | 839kB 12.1MB/s eta 0:00:01\r\u001b[K     |██████████████▍                 | 849kB 12.1MB/s eta 0:00:01\r\u001b[K     |██████████████▌                 | 860kB 12.1MB/s eta 0:00:01\r\u001b[K     |██████████████▊                 | 870kB 12.1MB/s eta 0:00:01\r\u001b[K     |██████████████▉                 | 880kB 12.1MB/s eta 0:00:01\r\u001b[K     |███████████████                 | 890kB 12.1MB/s eta 0:00:01\r\u001b[K     |███████████████▏                | 901kB 12.1MB/s eta 0:00:01\r\u001b[K     |███████████████▍                | 911kB 12.1MB/s eta 0:00:01\r\u001b[K     |███████████████▌                | 921kB 12.1MB/s eta 0:00:01\r\u001b[K     |███████████████▊                | 931kB 12.1MB/s eta 0:00:01\r\u001b[K     |████████████████                | 942kB 12.1MB/s eta 0:00:01\r\u001b[K     |████████████████                | 952kB 12.1MB/s eta 0:00:01\r\u001b[K     |████████████████▎               | 962kB 12.1MB/s eta 0:00:01\r\u001b[K     |████████████████▍               | 972kB 12.1MB/s eta 0:00:01\r\u001b[K     |████████████████▋               | 983kB 12.1MB/s eta 0:00:01\r\u001b[K     |████████████████▊               | 993kB 12.1MB/s eta 0:00:01\r\u001b[K     |█████████████████               | 1.0MB 12.1MB/s eta 0:00:01\r\u001b[K     |█████████████████               | 1.0MB 12.1MB/s eta 0:00:01\r\u001b[K     |█████████████████▎              | 1.0MB 12.1MB/s eta 0:00:01\r\u001b[K     |█████████████████▍              | 1.0MB 12.1MB/s eta 0:00:01\r\u001b[K     |█████████████████▋              | 1.0MB 12.1MB/s eta 0:00:01\r\u001b[K     |█████████████████▉              | 1.1MB 12.1MB/s eta 0:00:01\r\u001b[K     |██████████████████              | 1.1MB 12.1MB/s eta 0:00:01\r\u001b[K     |██████████████████▏             | 1.1MB 12.1MB/s eta 0:00:01\r\u001b[K     |██████████████████▎             | 1.1MB 12.1MB/s eta 0:00:01\r\u001b[K     |██████████████████▌             | 1.1MB 12.1MB/s eta 0:00:01\r\u001b[K     |██████████████████▋             | 1.1MB 12.1MB/s eta 0:00:01\r\u001b[K     |██████████████████▉             | 1.1MB 12.1MB/s eta 0:00:01\r\u001b[K     |███████████████████             | 1.1MB 12.1MB/s eta 0:00:01\r\u001b[K     |███████████████████▏            | 1.1MB 12.1MB/s eta 0:00:01\r\u001b[K     |███████████████████▍            | 1.1MB 12.1MB/s eta 0:00:01\r\u001b[K     |███████████████████▌            | 1.2MB 12.1MB/s eta 0:00:01\r\u001b[K     |███████████████████▊            | 1.2MB 12.1MB/s eta 0:00:01\r\u001b[K     |███████████████████▉            | 1.2MB 12.1MB/s eta 0:00:01\r\u001b[K     |████████████████████            | 1.2MB 12.1MB/s eta 0:00:01\r\u001b[K     |████████████████████▏           | 1.2MB 12.1MB/s eta 0:00:01\r\u001b[K     |████████████████████▍           | 1.2MB 12.1MB/s eta 0:00:01\r\u001b[K     |████████████████████▌           | 1.2MB 12.1MB/s eta 0:00:01\r\u001b[K     |████████████████████▊           | 1.2MB 12.1MB/s eta 0:00:01\r\u001b[K     |█████████████████████           | 1.2MB 12.1MB/s eta 0:00:01\r\u001b[K     |█████████████████████           | 1.2MB 12.1MB/s eta 0:00:01\r\u001b[K     |█████████████████████▎          | 1.3MB 12.1MB/s eta 0:00:01\r\u001b[K     |█████████████████████▍          | 1.3MB 12.1MB/s eta 0:00:01\r\u001b[K     |█████████████████████▋          | 1.3MB 12.1MB/s eta 0:00:01\r\u001b[K     |█████████████████████▊          | 1.3MB 12.1MB/s eta 0:00:01\r\u001b[K     |██████████████████████          | 1.3MB 12.1MB/s eta 0:00:01\r\u001b[K     |██████████████████████          | 1.3MB 12.1MB/s eta 0:00:01\r\u001b[K     |██████████████████████▎         | 1.3MB 12.1MB/s eta 0:00:01\r\u001b[K     |██████████████████████▌         | 1.3MB 12.1MB/s eta 0:00:01\r\u001b[K     |██████████████████████▋         | 1.3MB 12.1MB/s eta 0:00:01\r\u001b[K     |██████████████████████▉         | 1.4MB 12.1MB/s eta 0:00:01\r\u001b[K     |███████████████████████         | 1.4MB 12.1MB/s eta 0:00:01\r\u001b[K     |███████████████████████▏        | 1.4MB 12.1MB/s eta 0:00:01\r\u001b[K     |███████████████████████▎        | 1.4MB 12.1MB/s eta 0:00:01\r\u001b[K     |███████████████████████▌        | 1.4MB 12.1MB/s eta 0:00:01\r\u001b[K     |███████████████████████▋        | 1.4MB 12.1MB/s eta 0:00:01\r\u001b[K     |███████████████████████▉        | 1.4MB 12.1MB/s eta 0:00:01\r\u001b[K     |████████████████████████        | 1.4MB 12.1MB/s eta 0:00:01\r\u001b[K     |████████████████████████▏       | 1.4MB 12.1MB/s eta 0:00:01\r\u001b[K     |████████████████████████▍       | 1.4MB 12.1MB/s eta 0:00:01\r\u001b[K     |████████████████████████▌       | 1.5MB 12.1MB/s eta 0:00:01\r\u001b[K     |████████████████████████▊       | 1.5MB 12.1MB/s eta 0:00:01\r\u001b[K     |████████████████████████▉       | 1.5MB 12.1MB/s eta 0:00:01\r\u001b[K     |█████████████████████████       | 1.5MB 12.1MB/s eta 0:00:01\r\u001b[K     |█████████████████████████▏      | 1.5MB 12.1MB/s eta 0:00:01\r\u001b[K     |█████████████████████████▍      | 1.5MB 12.1MB/s eta 0:00:01\r\u001b[K     |█████████████████████████▋      | 1.5MB 12.1MB/s eta 0:00:01\r\u001b[K     |█████████████████████████▊      | 1.5MB 12.1MB/s eta 0:00:01\r\u001b[K     |██████████████████████████      | 1.5MB 12.1MB/s eta 0:00:01\r\u001b[K     |██████████████████████████      | 1.5MB 12.1MB/s eta 0:00:01\r\u001b[K     |██████████████████████████▎     | 1.6MB 12.1MB/s eta 0:00:01\r\u001b[K     |██████████████████████████▍     | 1.6MB 12.1MB/s eta 0:00:01\r\u001b[K     |██████████████████████████▋     | 1.6MB 12.1MB/s eta 0:00:01\r\u001b[K     |██████████████████████████▊     | 1.6MB 12.1MB/s eta 0:00:01\r\u001b[K     |███████████████████████████     | 1.6MB 12.1MB/s eta 0:00:01\r\u001b[K     |███████████████████████████▏    | 1.6MB 12.1MB/s eta 0:00:01\r\u001b[K     |███████████████████████████▎    | 1.6MB 12.1MB/s eta 0:00:01\r\u001b[K     |███████████████████████████▌    | 1.6MB 12.1MB/s eta 0:00:01\r\u001b[K     |███████████████████████████▋    | 1.6MB 12.1MB/s eta 0:00:01\r\u001b[K     |███████████████████████████▉    | 1.6MB 12.1MB/s eta 0:00:01\r\u001b[K     |████████████████████████████    | 1.7MB 12.1MB/s eta 0:00:01\r\u001b[K     |████████████████████████████▏   | 1.7MB 12.1MB/s eta 0:00:01\r\u001b[K     |████████████████████████████▎   | 1.7MB 12.1MB/s eta 0:00:01\r\u001b[K     |████████████████████████████▌   | 1.7MB 12.1MB/s eta 0:00:01\r\u001b[K     |████████████████████████████▊   | 1.7MB 12.1MB/s eta 0:00:01\r\u001b[K     |████████████████████████████▉   | 1.7MB 12.1MB/s eta 0:00:01\r\u001b[K     |█████████████████████████████   | 1.7MB 12.1MB/s eta 0:00:01\r\u001b[K     |█████████████████████████████▏  | 1.7MB 12.1MB/s eta 0:00:01\r\u001b[K     |█████████████████████████████▍  | 1.7MB 12.1MB/s eta 0:00:01\r\u001b[K     |█████████████████████████████▌  | 1.8MB 12.1MB/s eta 0:00:01\r\u001b[K     |█████████████████████████████▊  | 1.8MB 12.1MB/s eta 0:00:01\r\u001b[K     |█████████████████████████████▉  | 1.8MB 12.1MB/s eta 0:00:01\r\u001b[K     |██████████████████████████████  | 1.8MB 12.1MB/s eta 0:00:01\r\u001b[K     |██████████████████████████████▎ | 1.8MB 12.1MB/s eta 0:00:01\r\u001b[K     |██████████████████████████████▍ | 1.8MB 12.1MB/s eta 0:00:01\r\u001b[K     |██████████████████████████████▋ | 1.8MB 12.1MB/s eta 0:00:01\r\u001b[K     |██████████████████████████████▊ | 1.8MB 12.1MB/s eta 0:00:01\r\u001b[K     |███████████████████████████████ | 1.8MB 12.1MB/s eta 0:00:01\r\u001b[K     |███████████████████████████████ | 1.8MB 12.1MB/s eta 0:00:01\r\u001b[K     |███████████████████████████████▎| 1.9MB 12.1MB/s eta 0:00:01\r\u001b[K     |███████████████████████████████▍| 1.9MB 12.1MB/s eta 0:00:01\r\u001b[K     |███████████████████████████████▋| 1.9MB 12.1MB/s eta 0:00:01\r\u001b[K     |███████████████████████████████▉| 1.9MB 12.1MB/s eta 0:00:01\r\u001b[K     |████████████████████████████████| 1.9MB 12.1MB/s eta 0:00:01\r\u001b[K     |████████████████████████████████| 1.9MB 12.1MB/s \n",
            "\u001b[?25hRequirement already satisfied: requests in /usr/local/lib/python3.7/dist-packages (from transformers) (2.23.0)\n",
            "Collecting tokenizers<0.11,>=0.10.1\n",
            "\u001b[?25l  Downloading https://files.pythonhosted.org/packages/71/23/2ddc317b2121117bf34dd00f5b0de194158f2a44ee2bf5e47c7166878a97/tokenizers-0.10.1-cp37-cp37m-manylinux2010_x86_64.whl (3.2MB)\n",
            "\u001b[K     |████████████████████████████████| 3.2MB 51.7MB/s \n",
            "\u001b[?25hRequirement already satisfied: regex!=2019.12.17 in /usr/local/lib/python3.7/dist-packages (from transformers) (2019.12.20)\n",
            "Requirement already satisfied: tqdm>=4.27 in /usr/local/lib/python3.7/dist-packages (from transformers) (4.41.1)\n",
            "Requirement already satisfied: filelock in /usr/local/lib/python3.7/dist-packages (from transformers) (3.0.12)\n",
            "Requirement already satisfied: packaging in /usr/local/lib/python3.7/dist-packages (from transformers) (20.9)\n",
            "Requirement already satisfied: importlib-metadata; python_version < \"3.8\" in /usr/local/lib/python3.7/dist-packages (from transformers) (3.7.0)\n",
            "Requirement already satisfied: numpy>=1.17 in /usr/local/lib/python3.7/dist-packages (from transformers) (1.19.5)\n",
            "Collecting sacremoses\n",
            "\u001b[?25l  Downloading https://files.pythonhosted.org/packages/7d/34/09d19aff26edcc8eb2a01bed8e98f13a1537005d31e95233fd48216eed10/sacremoses-0.0.43.tar.gz (883kB)\n",
            "\u001b[K     |████████████████████████████████| 890kB 43.6MB/s \n",
            "\u001b[?25hRequirement already satisfied: idna<3,>=2.5 in /usr/local/lib/python3.7/dist-packages (from requests->transformers) (2.10)\n",
            "Requirement already satisfied: chardet<4,>=3.0.2 in /usr/local/lib/python3.7/dist-packages (from requests->transformers) (3.0.4)\n",
            "Requirement already satisfied: certifi>=2017.4.17 in /usr/local/lib/python3.7/dist-packages (from requests->transformers) (2020.12.5)\n",
            "Requirement already satisfied: urllib3!=1.25.0,!=1.25.1,<1.26,>=1.21.1 in /usr/local/lib/python3.7/dist-packages (from requests->transformers) (1.24.3)\n",
            "Requirement already satisfied: pyparsing>=2.0.2 in /usr/local/lib/python3.7/dist-packages (from packaging->transformers) (2.4.7)\n",
            "Requirement already satisfied: typing-extensions>=3.6.4; python_version < \"3.8\" in /usr/local/lib/python3.7/dist-packages (from importlib-metadata; python_version < \"3.8\"->transformers) (3.7.4.3)\n",
            "Requirement already satisfied: zipp>=0.5 in /usr/local/lib/python3.7/dist-packages (from importlib-metadata; python_version < \"3.8\"->transformers) (3.4.1)\n",
            "Requirement already satisfied: six in /usr/local/lib/python3.7/dist-packages (from sacremoses->transformers) (1.15.0)\n",
            "Requirement already satisfied: click in /usr/local/lib/python3.7/dist-packages (from sacremoses->transformers) (7.1.2)\n",
            "Requirement already satisfied: joblib in /usr/local/lib/python3.7/dist-packages (from sacremoses->transformers) (1.0.1)\n",
            "Building wheels for collected packages: sacremoses\n",
            "  Building wheel for sacremoses (setup.py) ... \u001b[?25l\u001b[?25hdone\n",
            "  Created wheel for sacremoses: filename=sacremoses-0.0.43-cp37-none-any.whl size=893262 sha256=9d7d40fe5c91413c6fe0211ff8efc9d105ac5118c8febf627bc4f9d6e5c2ce9e\n",
            "  Stored in directory: /root/.cache/pip/wheels/29/3c/fd/7ce5c3f0666dab31a50123635e6fb5e19ceb42ce38d4e58f45\n",
            "Successfully built sacremoses\n",
            "Installing collected packages: tokenizers, sacremoses, transformers\n",
            "Successfully installed sacremoses-0.0.43 tokenizers-0.10.1 transformers-4.3.3\n"
          ],
          "name": "stdout"
        }
      ]
    },
    {
      "cell_type": "code",
      "metadata": {
        "id": "l0qEl5oBNKM7",
        "outputId": "4e398984-dd60-4dca-db81-bf20ad0e16e5",
        "colab": {
          "base_uri": "https://localhost:8080/"
        }
      },
      "source": [
        "import pandas as pd\n",
        "from transformers import pipeline\n",
        "import requests\n",
        "import io\n",
        "\n",
        "from google.colab import drive\n",
        "drive.mount('/content/drive')"
      ],
      "execution_count": 4,
      "outputs": [
        {
          "output_type": "stream",
          "text": [
            "Mounted at /content/drive\n"
          ],
          "name": "stdout"
        }
      ]
    },
    {
      "cell_type": "code",
      "metadata": {
        "id": "QOndBIvJNKNB",
        "colab": {
          "base_uri": "https://localhost:8080/",
          "height": 368,
          "referenced_widgets": [
            "187fedf245b34841a58fc04671064489",
            "a1baa34ed3f845e2aaee034766b82123",
            "b8c8e55c42d5408f993c7257bcda4b70",
            "b0f2905248834293acb3f118441821ec",
            "40e4b71402e243b99a3f82c96cec8d9e",
            "e139e624ff624a9d818eb89ab81fc9d3",
            "a0b9d079c7114f709f30ec5884165c8c",
            "a783de12daa74b9587cd9ca14bc4222f",
            "2e4c4d820ef44118becb24c7b5068847",
            "43d19a15373b4c668b9ff83d500928b5",
            "2afeb71de0764e399986672d7cc11e8d",
            "c988a2aa7da4467b87c67f296e69fe99",
            "16461e7a52e2488ca912ebb2268d0520",
            "8621efafa082400484b25c83f42c1587",
            "6dc8d74082294a5598ae5b422e4cc00d",
            "58168c3c80174793a3c9ce4b37242540",
            "5457ddf9daea4b7f9c451b876053aeba",
            "9d651a0f991b463ca563887e3683896f",
            "76d4e1a060cf44e6896193c60d27bbe0",
            "78b40d0fc96f43159006ab2fa97b3856",
            "427996fbd7c54d7aa85ebdcc455cbf8f",
            "284a9713992d4a238fe4ada3cf5f08e4",
            "9aed2186b9ef41578b3cb2cafa3a1a1d",
            "38296bf0a9c14c039b456f09eeed920c",
            "e4ab7967895f43358d28cf3822171fd4",
            "690a6f2756ba47cfb885951c573a0cb1",
            "bb928a0fd470492692fc993cf78f878e",
            "52ddf11fec6d43bd9ae3acfdf1095eea",
            "cec444aea7fc414bb06b383c15fa2b34",
            "8e9de376367b4957a0365ced0a6d5d49",
            "9594cf23425049a9a2690835919f3613",
            "d99d5ab3e6054efa8263bacd7c6a5bda",
            "645f022d5ac1476fbb582c6470ccd20f",
            "4b8203ff73ae48dd8f6d1803a43be3f8",
            "0bedc845f6ae4a5889d8df31f372d2a4",
            "ab42598b48554e6983984a94f8b3de75",
            "2db73bc9efdd4f09a1663504238fc59f",
            "ec82f9a6fce84f92bfdf74469e7626c1",
            "d93d38802d5a4165a9da4bf7f0980da4",
            "f1967cadc5134bf597b97129a4cde1d9"
          ]
        },
        "outputId": "74969420-8322-4d75-c4a5-b2e4b1f12360"
      },
      "source": [
        "classifier = pipeline(\"zero-shot-classification\",\n",
        "                      model=\"facebook/bart-large-mnli\", device = 0)\n",
        "\n"
      ],
      "execution_count": 5,
      "outputs": [
        {
          "output_type": "display_data",
          "data": {
            "application/vnd.jupyter.widget-view+json": {
              "model_id": "187fedf245b34841a58fc04671064489",
              "version_minor": 0,
              "version_major": 2
            },
            "text/plain": [
              "HBox(children=(FloatProgress(value=0.0, description='Downloading', max=908.0, style=ProgressStyle(description_…"
            ]
          },
          "metadata": {
            "tags": []
          }
        },
        {
          "output_type": "stream",
          "text": [
            "\n"
          ],
          "name": "stdout"
        },
        {
          "output_type": "display_data",
          "data": {
            "application/vnd.jupyter.widget-view+json": {
              "model_id": "2e4c4d820ef44118becb24c7b5068847",
              "version_minor": 0,
              "version_major": 2
            },
            "text/plain": [
              "HBox(children=(FloatProgress(value=0.0, description='Downloading', max=1629486723.0, style=ProgressStyle(descr…"
            ]
          },
          "metadata": {
            "tags": []
          }
        },
        {
          "output_type": "stream",
          "text": [
            "\n"
          ],
          "name": "stdout"
        },
        {
          "output_type": "stream",
          "text": [
            "Some weights of the model checkpoint at facebook/bart-large-mnli were not used when initializing BartModel: ['model.encoder.version', 'model.decoder.version']\n",
            "- This IS expected if you are initializing BartModel from the checkpoint of a model trained on another task or with another architecture (e.g. initializing a BertForSequenceClassification model from a BertForPreTraining model).\n",
            "- This IS NOT expected if you are initializing BartModel from the checkpoint of a model that you expect to be exactly identical (initializing a BertForSequenceClassification model from a BertForSequenceClassification model).\n"
          ],
          "name": "stderr"
        },
        {
          "output_type": "display_data",
          "data": {
            "application/vnd.jupyter.widget-view+json": {
              "model_id": "5457ddf9daea4b7f9c451b876053aeba",
              "version_minor": 0,
              "version_major": 2
            },
            "text/plain": [
              "HBox(children=(FloatProgress(value=0.0, description='Downloading', max=898823.0, style=ProgressStyle(descripti…"
            ]
          },
          "metadata": {
            "tags": []
          }
        },
        {
          "output_type": "stream",
          "text": [
            "\n"
          ],
          "name": "stdout"
        },
        {
          "output_type": "display_data",
          "data": {
            "application/vnd.jupyter.widget-view+json": {
              "model_id": "e4ab7967895f43358d28cf3822171fd4",
              "version_minor": 0,
              "version_major": 2
            },
            "text/plain": [
              "HBox(children=(FloatProgress(value=0.0, description='Downloading', max=456318.0, style=ProgressStyle(descripti…"
            ]
          },
          "metadata": {
            "tags": []
          }
        },
        {
          "output_type": "stream",
          "text": [
            "\n"
          ],
          "name": "stdout"
        },
        {
          "output_type": "display_data",
          "data": {
            "application/vnd.jupyter.widget-view+json": {
              "model_id": "645f022d5ac1476fbb582c6470ccd20f",
              "version_minor": 0,
              "version_major": 2
            },
            "text/plain": [
              "HBox(children=(FloatProgress(value=0.0, description='Downloading', max=1355863.0, style=ProgressStyle(descript…"
            ]
          },
          "metadata": {
            "tags": []
          }
        },
        {
          "output_type": "stream",
          "text": [
            "\n"
          ],
          "name": "stdout"
        },
        {
          "output_type": "stream",
          "text": [
            "Some weights of the model checkpoint at facebook/bart-large-mnli were not used when initializing BartForSequenceClassification: ['model.encoder.version', 'model.decoder.version']\n",
            "- This IS expected if you are initializing BartForSequenceClassification from the checkpoint of a model trained on another task or with another architecture (e.g. initializing a BertForSequenceClassification model from a BertForPreTraining model).\n",
            "- This IS NOT expected if you are initializing BartForSequenceClassification from the checkpoint of a model that you expect to be exactly identical (initializing a BertForSequenceClassification model from a BertForSequenceClassification model).\n"
          ],
          "name": "stderr"
        }
      ]
    },
    {
      "cell_type": "code",
      "metadata": {
        "id": "o1ZGJUeo_U3h"
      },
      "source": [
        "\n",
        "candidate_labels = ['Agriculture',\n",
        "'Banking, Finance and Internal Market',\n",
        "'Civil Rights and Liberties',\n",
        "'Culture',\n",
        "'Defence',\n",
        "'Education',\n",
        "'Energy',\n",
        "'Environment',\n",
        "'Employment',\n",
        "'EU Governance',\n",
        "'Foreign Affairs',\n",
        "'Foreign Trade',\n",
        "'Health',\n",
        "'Immigration',\n",
        "'Law and Crime',\n",
        "'Macroeconomics',\n",
        "'Public Lands, Water Management and Territorial Issues',\n",
        "'Regional Policy',\n",
        "'Science, Technology and Communications',\n",
        "'Social Policy',\n",
        "'Transportation']"
      ],
      "execution_count": 6,
      "outputs": []
    },
    {
      "cell_type": "code",
      "metadata": {
        "id": "kRn8_vtFNKND"
      },
      "source": [
        "texts = pd.read_csv('drive/MyDrive/complete_set.csv').dropna()\n",
        "sequences = texts.content[0:500]\n"
      ],
      "execution_count": 7,
      "outputs": []
    },
    {
      "cell_type": "code",
      "metadata": {
        "id": "MBsR-TteNKNE",
        "outputId": "d0f6bf75-00e7-4545-8f43-7bfce8272308"
      },
      "source": [
        "sequences\n",
        "len(sequences)\n",
        "range(len(sequences))\n",
        "type(sequences)\n",
        "sequences.iloc[1]"
      ],
      "execution_count": null,
      "outputs": [
        {
          "output_type": "execute_result",
          "data": {
            "text/plain": [
              "'\\nAccording to recent news reports, Adnan Rasheed, leader of the Pakistani jihadist group TTP, has sent a letter to Malala Yousafzai, the Pakistani girl who was shot several times by a Taliban gunman at the end of last year, but who survived thanks to emergency medical treatment. Sixteen-year-old Malala was targeted by the extremist for describing the suicide attacks that are carried out in the Swat valley and in particular in her hometown of Mingora, destroying a number of schools and other public buildings.\\nIn the letter, Adnan Rasheed justifies the Taliban attacks by claiming that Malala was shot not because of her love of school and studying, but because of the ‘smear campaign’ that she ran against the Taliban.\\nMoreover, Pakistan ranks only slightly above sub-Saharan Africa with regard to female education, since a Unesco study published last year reveals that around 62% of Pakistani girls have no access to primary education.\\nLastly, according to United Nations Secretary-General Ban Ki-moon, ‘The terrorists showed what frightens them most: a girl with a book. […] Nowhere in the world should it be an act of bravery for a young girl to go to school.’\\n— Is the Commission aware of Malala Yousafzai’s current living conditions?\\n— Will it establish programmes, now and in the future, to safeguard the right of women to study in countries in which they are denied access to education?'"
            ]
          },
          "metadata": {
            "tags": []
          },
          "execution_count": 12
        }
      ]
    },
    {
      "cell_type": "code",
      "metadata": {
        "id": "0ENnxTmkNKNF",
        "colab": {
          "base_uri": "https://localhost:8080/"
        },
        "outputId": "d21ecd2b-398b-4449-dde4-ef4e4fba2d55"
      },
      "source": [
        "results = []\n",
        "for i in range(len(sequences)):\n",
        "    result =  classifier(sequences.iloc[i], candidate_labels, multi_class=True)\n",
        "    print(i)\n",
        "    results.append(result)"
      ],
      "execution_count": null,
      "outputs": [
        {
          "output_type": "stream",
          "text": [
            "0\n"
          ],
          "name": "stdout"
        }
      ]
    },
    {
      "cell_type": "code",
      "metadata": {
        "id": "JGkWwNg8NKNF",
        "colab": {
          "base_uri": "https://localhost:8080/",
          "height": 165
        },
        "outputId": "e518e575-089f-42b2-bd0c-370aa664c488"
      },
      "source": [
        "df = pandas.concat([pandas.DataFrame.from_dict(result) for result in results])"
      ],
      "execution_count": 1,
      "outputs": [
        {
          "output_type": "error",
          "ename": "NameError",
          "evalue": "ignored",
          "traceback": [
            "\u001b[0;31m---------------------------------------------------------------------------\u001b[0m",
            "\u001b[0;31mNameError\u001b[0m                                 Traceback (most recent call last)",
            "\u001b[0;32m<ipython-input-1-100f62972f2f>\u001b[0m in \u001b[0;36m<module>\u001b[0;34m()\u001b[0m\n\u001b[0;32m----> 1\u001b[0;31m \u001b[0mresults\u001b[0m\u001b[0;34m\u001b[0m\u001b[0;34m\u001b[0m\u001b[0m\n\u001b[0m",
            "\u001b[0;31mNameError\u001b[0m: name 'results' is not defined"
          ]
        }
      ]
    }
  ]
}