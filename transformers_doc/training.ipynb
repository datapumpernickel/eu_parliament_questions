{
  "nbformat": 4,
  "nbformat_minor": 0,
  "metadata": {
    "colab": {
      "name": "training.ipynb",
      "provenance": []
    }
  },
  "cells": [
    {
      "cell_type": "code",
      "metadata": {
        "id": "ZJMEQ2aguC3C"
      },
      "source": [
        "# Transformers installation\n",
        "! pip install transformers datasets\n",
        "# To install from source instead of the last release, comment the command above and uncomment the following one.\n",
        "# ! pip install git+https://github.com/huggingface/transformers.git\n"
      ],
      "execution_count": null,
      "outputs": []
    },
    {
      "cell_type": "markdown",
      "metadata": {
        "id": "QC10x1gAuC3F"
      },
      "source": [
        "# Fine-tuning a pretrained model"
      ]
    },
    {
      "cell_type": "markdown",
      "metadata": {
        "id": "eeU7QnwouC3G"
      },
      "source": [
        "In this tutorial, we will show you how to fine-tune a pretrained model from the Transformers library. In TensorFlow,\n",
        "models can be directly trained using Keras and the `fit` method. In PyTorch, there is no generic training loop so\n",
        "the 🤗 Transformers library provides an API with the class `Trainer` to let you fine-tune or train\n",
        "a model from scratch easily. Then we will show you how to alternatively write the whole training loop in PyTorch.\n",
        "\n",
        "Before we can fine-tune a model, we need a dataset. In this tutorial, we will show you how to fine-tune BERT on the\n",
        "[IMDB dataset](https://www.imdb.com/interfaces/): the task is to classify whether movie reviews are positive or\n",
        "negative. For examples of other tasks, refer to the [additional-resources](#additional-resources) section!"
      ]
    },
    {
      "cell_type": "markdown",
      "metadata": {
        "id": "fUuhjUBguC3H"
      },
      "source": [
        "<a id='data-processing'></a>"
      ]
    },
    {
      "cell_type": "markdown",
      "metadata": {
        "id": "zHeu9NEpuC3H"
      },
      "source": [
        "## Preparing the datasets"
      ]
    },
    {
      "cell_type": "markdown",
      "metadata": {
        "id": "1wHuBaTBuC3I"
      },
      "source": [
        "> **RAW HTML:** <iframe width=\"560\" height=\"315\" src=\"https://www.youtube.com/embed/_BZearw7f0w\" title=\"YouTube video player\"\n",
        "> frameborder=\"0\" allow=\"accelerometer; autoplay; clipboard-write; encrypted-media; gyroscope;\n",
        "> picture-in-picture\" allowfullscreen></iframe>"
      ]
    },
    {
      "cell_type": "markdown",
      "metadata": {
        "id": "JrEOTVDFuC3I"
      },
      "source": [
        "We will use the [🤗 Datasets](https:/github.com/huggingface/datasets/) library to download and preprocess the IMDB\n",
        "datasets. We will go over this part pretty quickly. Since the focus of this tutorial is on training, you should refer\n",
        "to the 🤗 Datasets [documentation](https://huggingface.co/docs/datasets/) or the [preprocessing](https://huggingface.co/transformers/preprocessing.html) tutorial for\n",
        "more information.\n",
        "\n",
        "First, we can use the `load_dataset` function to download and cache the dataset:"
      ]
    },
    {
      "cell_type": "code",
      "metadata": {
        "id": "kuHjCSYLuC3J"
      },
      "source": [
        "from datasets import load_dataset\n",
        "\n",
        "raw_datasets = load_dataset(\"imdb\")"
      ],
      "execution_count": null,
      "outputs": []
    },
    {
      "cell_type": "markdown",
      "metadata": {
        "id": "tcmHiufkuC3J"
      },
      "source": [
        "This works like the `from_pretrained` method we saw for the models and tokenizers (except the cache directory is\n",
        "*~/.cache/huggingface/dataset* by default).\n",
        "\n",
        "The `raw_datasets` object is a dictionary with three keys: `\"train\"`, `\"test\"` and `\"unsupervised\"`\n",
        "(which correspond to the three splits of that dataset). We will use the `\"train\"` split for training and the\n",
        "`\"test\"` split for validation.\n",
        "\n",
        "To preprocess our data, we will need a tokenizer:"
      ]
    },
    {
      "cell_type": "code",
      "metadata": {
        "id": "QVHMx510uC3K"
      },
      "source": [
        "from transformers import AutoTokenizer\n",
        "\n",
        "tokenizer = AutoTokenizer.from_pretrained(\"bert-base-cased\")"
      ],
      "execution_count": null,
      "outputs": []
    },
    {
      "cell_type": "markdown",
      "metadata": {
        "id": "-1SNVdWJuC3K"
      },
      "source": [
        "As we saw in [preprocessing](https://huggingface.co/transformers/preprocessing.html), we can prepare the text inputs for the model with the following command (this is an\n",
        "example, not a command you can execute):"
      ]
    },
    {
      "cell_type": "code",
      "metadata": {
        "id": "DlzrlelvuC3L"
      },
      "source": [
        "inputs = tokenizer(sentences, padding=\"max_length\", truncation=True)"
      ],
      "execution_count": null,
      "outputs": []
    },
    {
      "cell_type": "markdown",
      "metadata": {
        "id": "tOZ9NsDkuC3L"
      },
      "source": [
        "This will make all the samples have the maximum length the model can accept (here 512), either by padding or truncating\n",
        "them.\n",
        "\n",
        "However, we can instead apply these preprocessing steps to all the splits of our dataset at once by using the\n",
        "`map` method:"
      ]
    },
    {
      "cell_type": "code",
      "metadata": {
        "id": "SBbf5I8ruC3M"
      },
      "source": [
        "def tokenize_function(examples):\n",
        "    return tokenizer(examples[\"text\"], padding=\"max_length\", truncation=True)\n",
        "\n",
        "tokenized_datasets = raw_datasets.map(tokenize_function, batched=True)"
      ],
      "execution_count": null,
      "outputs": []
    },
    {
      "cell_type": "markdown",
      "metadata": {
        "id": "ROb-ch13uC3M"
      },
      "source": [
        "You can learn more about the map method or the other ways to preprocess the data in the 🤗 Datasets [documentation](https://huggingface.co/docs/datasets/).\n",
        "\n",
        "Next we will generate a small subset of the training and validation set, to enable faster training:"
      ]
    },
    {
      "cell_type": "code",
      "metadata": {
        "id": "0_4FoVSVuC3M"
      },
      "source": [
        "small_train_dataset = tokenized_datasets[\"train\"].shuffle(seed=42).select(range(1000)) \n",
        "small_eval_dataset = tokenized_datasets[\"test\"].shuffle(seed=42).select(range(1000)) \n",
        "full_train_dataset = tokenized_datasets[\"train\"]\n",
        "full_eval_dataset = tokenized_datasets[\"test\"]"
      ],
      "execution_count": null,
      "outputs": []
    },
    {
      "cell_type": "markdown",
      "metadata": {
        "id": "dFCos0V6uC3N"
      },
      "source": [
        "In all the examples below, we will always use `small_train_dataset` and `small_eval_dataset`. Just replace\n",
        "them by their *full* equivalent to train or evaluate on the full dataset."
      ]
    },
    {
      "cell_type": "markdown",
      "metadata": {
        "id": "ZFIPwKIjuC3N"
      },
      "source": [
        "<a id='trainer'></a>"
      ]
    },
    {
      "cell_type": "markdown",
      "metadata": {
        "id": "VpL7rNhRuC3N"
      },
      "source": [
        "## Fine-tuning in PyTorch with the Trainer API"
      ]
    },
    {
      "cell_type": "markdown",
      "metadata": {
        "id": "t6psi8C1uC3N"
      },
      "source": [
        "> **RAW HTML:** <iframe width=\"560\" height=\"315\" src=\"https://www.youtube.com/embed/nvBXf7s7vTI\" title=\"YouTube video player\"\n",
        "> frameborder=\"0\" allow=\"accelerometer; autoplay; clipboard-write; encrypted-media; gyroscope;\n",
        "> picture-in-picture\" allowfullscreen></iframe>"
      ]
    },
    {
      "cell_type": "markdown",
      "metadata": {
        "id": "w9MV5ta1uC3N"
      },
      "source": [
        "Since PyTorch does not provide a training loop, the 🤗 Transformers library provides a `Trainer`\n",
        "API that is optimized for 🤗 Transformers models, with a wide range of training options and with built-in features like\n",
        "logging, gradient accumulation, and mixed precision.\n",
        "\n",
        "First, let's define our model:"
      ]
    },
    {
      "cell_type": "code",
      "metadata": {
        "id": "e4Gf4vScuC3O"
      },
      "source": [
        "from transformers import AutoModelForSequenceClassification\n",
        "\n",
        "model = AutoModelForSequenceClassification.from_pretrained(\"bert-base-cased\", num_labels=2)"
      ],
      "execution_count": null,
      "outputs": []
    },
    {
      "cell_type": "markdown",
      "metadata": {
        "id": "BOaNqvnZuC3O"
      },
      "source": [
        "This will issue a warning about some of the pretrained weights not being used and some weights being randomly\n",
        "initialized. That's because we are throwing away the pretraining head of the BERT model to replace it with a\n",
        "classification head which is randomly initialized. We will fine-tune this model on our task, transferring the knowledge\n",
        "of the pretrained model to it (which is why doing this is called transfer learning).\n",
        "\n",
        "Then, to define our `Trainer`, we will need to instantiate a\n",
        "`TrainingArguments`. This class contains all the hyperparameters we can tune for the\n",
        "`Trainer` or the flags to activate the different training options it supports. Let's begin by\n",
        "using all the defaults, the only thing we then have to provide is a directory in which the checkpoints will be saved:"
      ]
    },
    {
      "cell_type": "code",
      "metadata": {
        "id": "UxZgO9HvuC3O"
      },
      "source": [
        "from transformers import TrainingArguments\n",
        "\n",
        "training_args = TrainingArguments(\"test_trainer\")"
      ],
      "execution_count": null,
      "outputs": []
    },
    {
      "cell_type": "markdown",
      "metadata": {
        "id": "SGY3cei9uC3P"
      },
      "source": [
        "Then we can instantiate a `Trainer` like this:"
      ]
    },
    {
      "cell_type": "code",
      "metadata": {
        "id": "ZPl_Jr7ruC3P"
      },
      "source": [
        "from transformers import Trainer\n",
        "\n",
        "trainer = Trainer(\n",
        "    model=model, args=training_args, train_dataset=small_train_dataset, eval_dataset=small_eval_dataset\n",
        ")"
      ],
      "execution_count": null,
      "outputs": []
    },
    {
      "cell_type": "markdown",
      "metadata": {
        "id": "Q_pWKd0KuC3P"
      },
      "source": [
        "To fine-tune our model, we just need to call"
      ]
    },
    {
      "cell_type": "code",
      "metadata": {
        "id": "nKh8gMtruC3Q"
      },
      "source": [
        "trainer.train()"
      ],
      "execution_count": null,
      "outputs": []
    },
    {
      "cell_type": "markdown",
      "metadata": {
        "id": "7STcPUGXuC3Q"
      },
      "source": [
        "which will start a training that you can follow with a progress bar, which should take a couple of minutes to complete\n",
        "(as long as you have access to a GPU). It won't actually tell you anything useful about how well (or badly) your model\n",
        "is performing however as by default, there is no evaluation during training, and we didn't tell the\n",
        "`Trainer` to compute any metrics. Let's have a look on how to do that now!\n",
        "\n",
        "To have the `Trainer` compute and report metrics, we need to give it a `compute_metrics`\n",
        "function that takes predictions and labels (grouped in a namedtuple called `EvalPrediction`) and\n",
        "return a dictionary with string items (the metric names) and float values (the metric values).\n",
        "\n",
        "The 🤗 Datasets library provides an easy way to get the common metrics used in NLP with the `load_metric` function.\n",
        "here we simply use accuracy. Then we define the `compute_metrics` function that just convert logits to predictions\n",
        "(remember that all 🤗 Transformers models return the logits) and feed them to `compute` method of this metric."
      ]
    },
    {
      "cell_type": "code",
      "metadata": {
        "id": "JNT3y4DjuC3Q"
      },
      "source": [
        "import numpy as np\n",
        "from datasets import load_metric\n",
        "\n",
        "metric = load_metric(\"accuracy\")\n",
        "\n",
        "def compute_metrics(eval_pred):\n",
        "    logits, labels = eval_pred\n",
        "    predictions = np.argmax(logits, axis=-1)\n",
        "    return metric.compute(predictions=predictions, references=labels)"
      ],
      "execution_count": null,
      "outputs": []
    },
    {
      "cell_type": "markdown",
      "metadata": {
        "id": "giPZhTJzuC3Q"
      },
      "source": [
        "The compute function needs to receive a tuple (with logits and labels) and has to return a dictionary with string keys\n",
        "(the name of the metric) and float values. It will be called at the end of each evaluation phase on the whole arrays of\n",
        "predictions/labels.\n",
        "\n",
        "To check if this works on practice, let's create a new `Trainer` with our fine-tuned model:"
      ]
    },
    {
      "cell_type": "code",
      "metadata": {
        "id": "e3Ux9HSXuC3R"
      },
      "source": [
        "trainer = Trainer(\n",
        "    model=model,\n",
        "    args=training_args,\n",
        "    train_dataset=small_train_dataset,\n",
        "    eval_dataset=small_eval_dataset,\n",
        "    compute_metrics=compute_metrics,\n",
        ")\n",
        "trainer.evaluate()"
      ],
      "execution_count": null,
      "outputs": []
    },
    {
      "cell_type": "markdown",
      "metadata": {
        "id": "wCysePeCuC3R"
      },
      "source": [
        "which showed an accuracy of 87.5% in our case.\n",
        "\n",
        "If you want to fine-tune your model and regularly report the evaluation metrics (for instance at the end of each\n",
        "epoch), here is how you should define your training arguments:"
      ]
    },
    {
      "cell_type": "code",
      "metadata": {
        "id": "FM8BwoiuuC3R"
      },
      "source": [
        "from transformers import TrainingArguments\n",
        "\n",
        "training_args = TrainingArguments(\"test_trainer\", evaluation_strategy=\"epoch\")"
      ],
      "execution_count": null,
      "outputs": []
    },
    {
      "cell_type": "markdown",
      "metadata": {
        "id": "f9oqCjuCuC3R"
      },
      "source": [
        "See the documentation of `TrainingArguments` for more options."
      ]
    },
    {
      "cell_type": "markdown",
      "metadata": {
        "id": "a7UJYu0tuC3R"
      },
      "source": [
        "<a id='keras'></a>"
      ]
    },
    {
      "cell_type": "markdown",
      "metadata": {
        "id": "O5qiXXWruC3S"
      },
      "source": [
        "## Fine-tuning with Keras"
      ]
    },
    {
      "cell_type": "markdown",
      "metadata": {
        "id": "Y7aXersCuC3S"
      },
      "source": [
        "> **RAW HTML:** <iframe width=\"560\" height=\"315\" src=\"https://www.youtube.com/embed/rnTGBy2ax1c\" title=\"YouTube video player\"\n",
        "> frameborder=\"0\" allow=\"accelerometer; autoplay; clipboard-write; encrypted-media; gyroscope;\n",
        "> picture-in-picture\" allowfullscreen></iframe>"
      ]
    },
    {
      "cell_type": "markdown",
      "metadata": {
        "id": "F4XHKiTUuC3S"
      },
      "source": [
        "Models can also be trained natively in TensorFlow using the Keras API. First, let's define our model:"
      ]
    },
    {
      "cell_type": "code",
      "metadata": {
        "id": "JpLitemvuC3S"
      },
      "source": [
        "import tensorflow as tf\n",
        "from transformers import TFAutoModelForSequenceClassification\n",
        "\n",
        "model = TFAutoModelForSequenceClassification.from_pretrained(\"bert-base-cased\", num_labels=2)"
      ],
      "execution_count": null,
      "outputs": []
    },
    {
      "cell_type": "markdown",
      "metadata": {
        "id": "5Pcuz_4nuC3S"
      },
      "source": [
        "Then we will need to convert our datasets from before in standard `tf.data.Dataset`. Since we have fixed shapes,\n",
        "it can easily be done like this. First we remove the *\"text\"* column from our datasets and set them in TensorFlow\n",
        "format:"
      ]
    },
    {
      "cell_type": "code",
      "metadata": {
        "id": "oDuTLR8NuC3S"
      },
      "source": [
        "tf_train_dataset = small_train_dataset.remove_columns([\"text\"]).with_format(\"tensorflow\")\n",
        "tf_eval_dataset = small_eval_dataset.remove_columns([\"text\"]).with_format(\"tensorflow\")"
      ],
      "execution_count": null,
      "outputs": []
    },
    {
      "cell_type": "markdown",
      "metadata": {
        "id": "XjbU22sbuC3T"
      },
      "source": [
        "Then we convert everything in big tensors and use the `tf.data.Dataset.from_tensor_slices` method:"
      ]
    },
    {
      "cell_type": "code",
      "metadata": {
        "id": "7wnn-QthuC3T"
      },
      "source": [
        "train_features = {x: tf_train_dataset[x].to_tensor() for x in tokenizer.model_input_names}\n",
        "train_tf_dataset = tf.data.Dataset.from_tensor_slices((train_features, tf_train_dataset[\"label\"]))\n",
        "train_tf_dataset = train_tf_dataset.shuffle(len(tf_train_dataset)).batch(8)\n",
        "\n",
        "eval_features = {x: tf_eval_dataset[x].to_tensor() for x in tokenizer.model_input_names}\n",
        "eval_tf_dataset = tf.data.Dataset.from_tensor_slices((eval_features, tf_eval_dataset[\"label\"]))\n",
        "eval_tf_dataset = eval_tf_dataset.batch(8)"
      ],
      "execution_count": null,
      "outputs": []
    },
    {
      "cell_type": "markdown",
      "metadata": {
        "id": "wsx33QG-uC3T"
      },
      "source": [
        "With this done, the model can then be compiled and trained as any Keras model:"
      ]
    },
    {
      "cell_type": "code",
      "metadata": {
        "id": "dPApAC4duC3T"
      },
      "source": [
        "model.compile(\n",
        "    optimizer=tf.keras.optimizers.Adam(learning_rate=5e-5),\n",
        "    loss=tf.keras.losses.SparseCategoricalCrossentropy(from_logits=True),\n",
        "    metrics=tf.metrics.SparseCategoricalAccuracy(),\n",
        ")\n",
        "\n",
        "model.fit(train_tf_dataset, validation_data=eval_tf_dataset, epochs=3)"
      ],
      "execution_count": null,
      "outputs": []
    },
    {
      "cell_type": "markdown",
      "metadata": {
        "id": "_z5MH601uC3U"
      },
      "source": [
        "With the tight interoperability between TensorFlow and PyTorch models, you can even save the model and then reload it\n",
        "as a PyTorch model (or vice-versa):"
      ]
    },
    {
      "cell_type": "code",
      "metadata": {
        "id": "yPI86PZeuC3U"
      },
      "source": [
        "from transformers import AutoModelForSequenceClassification\n",
        "\n",
        "model.save_pretrained(\"my_imdb_model\")\n",
        "pytorch_model = AutoModelForSequenceClassification.from_pretrained(\"my_imdb_model\", from_tf=True)"
      ],
      "execution_count": null,
      "outputs": []
    },
    {
      "cell_type": "markdown",
      "metadata": {
        "id": "KYNrD4cFuC3U"
      },
      "source": [
        "<a id='pytorch_native'></a>"
      ]
    },
    {
      "cell_type": "markdown",
      "metadata": {
        "id": "yoIBbHTfuC3V"
      },
      "source": [
        "## Fine-tuning in native PyTorch"
      ]
    },
    {
      "cell_type": "markdown",
      "metadata": {
        "id": "jKCFrPUDuC3V"
      },
      "source": [
        "> **RAW HTML:** <iframe width=\"560\" height=\"315\" src=\"https://www.youtube.com/embed/Dh9CL8fyG80\" title=\"YouTube video player\"\n",
        "> frameborder=\"0\" allow=\"accelerometer; autoplay; clipboard-write; encrypted-media; gyroscope;\n",
        "> picture-in-picture\" allowfullscreen></iframe>"
      ]
    },
    {
      "cell_type": "markdown",
      "metadata": {
        "id": "YMLNLqPIuC3V"
      },
      "source": [
        "You might need to restart your notebook at this stage to free some memory, or excute the following code:"
      ]
    },
    {
      "cell_type": "code",
      "metadata": {
        "id": "y3vekYA7uC3V"
      },
      "source": [
        "del model\n",
        "del pytorch_model\n",
        "del trainer\n",
        "torch.cuda.empty_cache()"
      ],
      "execution_count": null,
      "outputs": []
    },
    {
      "cell_type": "markdown",
      "metadata": {
        "id": "HIvvjT5kuC3V"
      },
      "source": [
        "Let's now see how to achieve the same results as in [trainer section](#trainer) in PyTorch. First we need to\n",
        "define the dataloaders, which we will use to iterate over batches. We just need to apply a bit of post-processing to\n",
        "our `tokenized_datasets` before doing that to:\n",
        "\n",
        "- remove the columns corresponding to values the model does not expect (here the `\"text\"` column)\n",
        "- rename the column `\"label\"` to `\"labels\"` (because the model expect the argument to be named `labels`)\n",
        "- set the format of the datasets so they return PyTorch Tensors instead of lists.\n",
        "\n",
        "Our *tokenized_datasets* has one method for each of those steps:"
      ]
    },
    {
      "cell_type": "code",
      "metadata": {
        "id": "6He8OJ6iuC3W"
      },
      "source": [
        "tokenized_datasets = tokenized_datasets.remove_columns([\"text\"])\n",
        "tokenized_datasets = tokenized_datasets.rename_column(\"label\", \"labels\")\n",
        "tokenized_datasets.set_format(\"torch\")\n",
        "\n",
        "small_train_dataset = tokenized_datasets[\"train\"].shuffle(seed=42).select(range(1000))\n",
        "small_eval_dataset = tokenized_datasets[\"test\"].shuffle(seed=42).select(range(1000))"
      ],
      "execution_count": null,
      "outputs": []
    },
    {
      "cell_type": "markdown",
      "metadata": {
        "id": "2WS75y_juC3W"
      },
      "source": [
        "Now that this is done, we can easily define our dataloaders:"
      ]
    },
    {
      "cell_type": "code",
      "metadata": {
        "id": "hcG1kBymuC3W"
      },
      "source": [
        "from torch.utils.data import DataLoader\n",
        "\n",
        "train_dataloader = DataLoader(small_train_dataset, shuffle=True, batch_size=8)\n",
        "eval_dataloader = DataLoader(small_eval_dataset, batch_size=8)"
      ],
      "execution_count": null,
      "outputs": []
    },
    {
      "cell_type": "markdown",
      "metadata": {
        "id": "AwmIESJluC3W"
      },
      "source": [
        "Next, we define our model:"
      ]
    },
    {
      "cell_type": "code",
      "metadata": {
        "id": "HkPtrQhguC3W"
      },
      "source": [
        "from transformers import AutoModelForSequenceClassification\n",
        "\n",
        "model = AutoModelForSequenceClassification.from_pretrained(\"bert-base-cased\", num_labels=2)"
      ],
      "execution_count": null,
      "outputs": []
    },
    {
      "cell_type": "markdown",
      "metadata": {
        "id": "ftEpJFpluC3X"
      },
      "source": [
        "We are almost ready to write our training loop, the only two things are missing are an optimizer and a learning rate\n",
        "scheduler. The default optimizer used by the `Trainer` is `AdamW`:"
      ]
    },
    {
      "cell_type": "code",
      "metadata": {
        "id": "kqI_qZFUuC3X"
      },
      "source": [
        "from transformers import AdamW\n",
        "\n",
        "optimizer = AdamW(model.parameters(), lr=5e-5)"
      ],
      "execution_count": null,
      "outputs": []
    },
    {
      "cell_type": "markdown",
      "metadata": {
        "id": "nrWhTSnXuC3X"
      },
      "source": [
        "Finally, the learning rate scheduler used by default it just a linear decay form the maximum value (5e-5 here) to 0:"
      ]
    },
    {
      "cell_type": "code",
      "metadata": {
        "id": "_iw5U0DRuC3X"
      },
      "source": [
        "from transformers import get_scheduler\n",
        "\n",
        "num_epochs = 3\n",
        "num_training_steps = num_epochs * len(train_dataloader)\n",
        "lr_scheduler = get_scheduler(\n",
        "    \"linear\",\n",
        "    optimizer=optimizer,\n",
        "    num_warmup_steps=0,\n",
        "    num_training_steps=num_training_steps\n",
        ")"
      ],
      "execution_count": null,
      "outputs": []
    },
    {
      "cell_type": "markdown",
      "metadata": {
        "id": "Eqdxy07nuC3Y"
      },
      "source": [
        "One last thing, we will want to use the GPU if we have access to one (otherwise training might take several hours\n",
        "instead of a couple of minutes). To do this, we define a `device` we will put our model and our batches on."
      ]
    },
    {
      "cell_type": "code",
      "metadata": {
        "id": "DiK-pjLjuC3Y"
      },
      "source": [
        "import torch\n",
        "\n",
        "device = torch.device(\"cuda\") if torch.cuda.is_available() else torch.device(\"cpu\")\n",
        "model.to(device)"
      ],
      "execution_count": null,
      "outputs": []
    },
    {
      "cell_type": "markdown",
      "metadata": {
        "id": "GuthpVn2uC3Y"
      },
      "source": [
        "We now are ready to train! To get some sense of when it will be finished, we add a progress bar over our number of\n",
        "training steps, using the *tqdm* library."
      ]
    },
    {
      "cell_type": "code",
      "metadata": {
        "id": "PhTZBAexuC3Y"
      },
      "source": [
        "from tqdm.auto import tqdm\n",
        "\n",
        "progress_bar = tqdm(range(num_training_steps))\n",
        "\n",
        "model.train()\n",
        "for epoch in range(num_epochs):\n",
        "    for batch in train_dataloader:\n",
        "        batch = {k: v.to(device) for k, v in batch.items()}\n",
        "        outputs = model(**batch)\n",
        "        loss = outputs.loss\n",
        "        loss.backward()\n",
        "\n",
        "        optimizer.step()\n",
        "        lr_scheduler.step()\n",
        "        optimizer.zero_grad()\n",
        "        progress_bar.update(1)"
      ],
      "execution_count": null,
      "outputs": []
    },
    {
      "cell_type": "markdown",
      "metadata": {
        "id": "49Vt2uiuuC3Y"
      },
      "source": [
        "Note that if you are used to freezing the body of your pretrained model (like in computer vision) the above may seem a\n",
        "bit strange, as we are directly fine-tuning the whole model without taking any precaution. It actually works better\n",
        "this way for Transformers model (so this is not an oversight on our side). If you're not familiar with what \"freezing\n",
        "the body\" of the model means, forget you read this paragraph.\n",
        "\n",
        "Now to check the results, we need to write the evaluation loop. Like in the [trainer section](#trainer) we will\n",
        "use a metric from the datasets library. Here we accumulate the predictions at each batch before computing the final\n",
        "result when the loop is finished."
      ]
    },
    {
      "cell_type": "code",
      "metadata": {
        "id": "FoY2Mr_juC3Z"
      },
      "source": [
        "metric= load_metric(\"accuracy\")\n",
        "model.eval()\n",
        "for batch in eval_dataloader:\n",
        "    batch = {k: v.to(device) for k, v in batch.items()}\n",
        "    with torch.no_grad():\n",
        "        outputs = model(**batch)\n",
        "\n",
        "    logits = outputs.logits\n",
        "    predictions = torch.argmax(logits, dim=-1)\n",
        "    metric.add_batch(predictions=predictions, references=batch[\"labels\"])\n",
        "\n",
        "metric.compute()"
      ],
      "execution_count": null,
      "outputs": []
    },
    {
      "cell_type": "markdown",
      "metadata": {
        "id": "QosQQl17uC3Z"
      },
      "source": [
        "<a id='additional-resources'></a>"
      ]
    },
    {
      "cell_type": "markdown",
      "metadata": {
        "id": "EnZssyTluC3Z"
      },
      "source": [
        "## Additional resources"
      ]
    },
    {
      "cell_type": "markdown",
      "metadata": {
        "id": "FGn4T9XTuC3Z"
      },
      "source": [
        "To look at more fine-tuning examples you can refer to:\n",
        "\n",
        "- [🤗 Transformers Examples](https://github.com/huggingface/transformers/tree/master/examples) which includes scripts\n",
        "  to train on all common NLP tasks in PyTorch and TensorFlow.\n",
        "\n",
        "- [🤗 Transformers Notebooks](https://huggingface.co/transformers/notebooks.html) which contains various notebooks and in particular one per task (look\n",
        "  for the *how to finetune a model on xxx*)."
      ]
    }
  ]
}