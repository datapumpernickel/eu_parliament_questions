{
 "cells": [
  {
   "cell_type": "code",
   "execution_count": 1,
   "metadata": {},
   "outputs": [],
   "source": [
    "import pandas as pd\n",
    "from transformers import pipeline\n"
   ]
  },
  {
   "cell_type": "code",
   "execution_count": 2,
   "metadata": {},
   "outputs": [
    {
     "name": "stderr",
     "output_type": "stream",
     "text": [
      "Some weights of the model checkpoint at facebook/bart-large-mnli were not used when initializing BartModel: ['model.encoder.version', 'model.decoder.version']\n",
      "- This IS expected if you are initializing BartModel from the checkpoint of a model trained on another task or with another architecture (e.g. initializing a BertForSequenceClassification model from a BertForPreTraining model).\n",
      "- This IS NOT expected if you are initializing BartModel from the checkpoint of a model that you expect to be exactly identical (initializing a BertForSequenceClassification model from a BertForSequenceClassification model).\n",
      "Some weights of the model checkpoint at facebook/bart-large-mnli were not used when initializing BartForSequenceClassification: ['model.encoder.version', 'model.decoder.version']\n",
      "- This IS expected if you are initializing BartForSequenceClassification from the checkpoint of a model trained on another task or with another architecture (e.g. initializing a BertForSequenceClassification model from a BertForPreTraining model).\n",
      "- This IS NOT expected if you are initializing BartForSequenceClassification from the checkpoint of a model that you expect to be exactly identical (initializing a BertForSequenceClassification model from a BertForSequenceClassification model).\n"
     ]
    }
   ],
   "source": [
    "classifier = pipeline(\"zero-shot-classification\",\n",
    "                      model=\"facebook/bart-large-mnli\")\n",
    "\n",
    "candidate_labels = ['macroeconomy', 'trade policy', 'foreign policy']\n"
   ]
  },
  {
   "cell_type": "code",
   "execution_count": 9,
   "metadata": {},
   "outputs": [],
   "source": [
    "texts = pd.read_csv('sample_data.csv').dropna()\n",
    "sequences = texts.content[0:50]\n"
   ]
  },
  {
   "cell_type": "code",
   "execution_count": 12,
   "metadata": {},
   "outputs": [
    {
     "data": {
      "text/plain": [
       "'\\nAccording to recent news reports, Adnan Rasheed, leader of the Pakistani jihadist group TTP, has sent a letter to Malala Yousafzai, the Pakistani girl who was shot several times by a Taliban gunman at the end of last year, but who survived thanks to emergency medical treatment. Sixteen-year-old Malala was targeted by the extremist for describing the suicide attacks that are carried out in the Swat valley and in particular in her hometown of Mingora, destroying a number of schools and other public buildings.\\nIn the letter, Adnan Rasheed justifies the Taliban attacks by claiming that Malala was shot not because of her love of school and studying, but because of the ‘smear campaign’ that she ran against the Taliban.\\nMoreover, Pakistan ranks only slightly above sub-Saharan Africa with regard to female education, since a Unesco study published last year reveals that around 62% of Pakistani girls have no access to primary education.\\nLastly, according to United Nations Secretary-General Ban Ki-moon, ‘The terrorists showed what frightens them most: a girl with a book. […] Nowhere in the world should it be an act of bravery for a young girl to go to school.’\\n— Is the Commission aware of Malala Yousafzai’s current living conditions?\\n— Will it establish programmes, now and in the future, to safeguard the right of women to study in countries in which they are denied access to education?'"
      ]
     },
     "execution_count": 12,
     "metadata": {},
     "output_type": "execute_result"
    }
   ],
   "source": [
    "sequences\n",
    "len(sequences)\n",
    "range(len(sequences))\n",
    "type(sequences)\n",
    "sequences.iloc[1]"
   ]
  },
  {
   "cell_type": "code",
   "execution_count": null,
   "metadata": {},
   "outputs": [],
   "source": [
    "results = []\n",
    "for i in range(len(sequences)):\n",
    "    result =  classifier(sequences.iloc[i], candidate_labels, multi_class=True)\n",
    "    results.append(result)"
   ]
  },
  {
   "cell_type": "code",
   "execution_count": null,
   "metadata": {},
   "outputs": [],
   "source": [
    "results"
   ]
  }
 ],
 "metadata": {
  "kernelspec": {
   "display_name": "Python 3",
   "language": "python",
   "name": "python3"
  },
  "language_info": {
   "codemirror_mode": {
    "name": "ipython",
    "version": 3
   },
   "file_extension": ".py",
   "mimetype": "text/x-python",
   "name": "python",
   "nbconvert_exporter": "python",
   "pygments_lexer": "ipython3",
   "version": "3.8.2"
  }
 },
 "nbformat": 4,
 "nbformat_minor": 4
}
