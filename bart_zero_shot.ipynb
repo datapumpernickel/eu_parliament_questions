{
 "cells": [
  {
   "cell_type": "code",
   "execution_count": 99,
   "metadata": {},
   "outputs": [],
   "source": [
    "from transformers import pipeline\n"
   ]
  },
  {
   "cell_type": "code",
   "execution_count": null,
   "metadata": {},
   "outputs": [
    {
     "data": {
      "application/vnd.jupyter.widget-view+json": {
       "model_id": "2de07c2c807b411caeb3d6f931868c4a",
       "version_major": 2,
       "version_minor": 0
      },
      "text/plain": [
       "HBox(children=(HTML(value='Downloading'), FloatProgress(value=0.0, max=461.0), HTML(value='')))"
      ]
     },
     "metadata": {},
     "output_type": "display_data"
    },
    {
     "name": "stdout",
     "output_type": "stream",
     "text": [
      "\n"
     ]
    },
    {
     "data": {
      "application/vnd.jupyter.widget-view+json": {
       "model_id": "2dd3cf766ac24dcca0d6fb022d1ce81a",
       "version_major": 2,
       "version_minor": 0
      },
      "text/plain": [
       "HBox(children=(HTML(value='Downloading'), FloatProgress(value=0.0, max=438006864.0), HTML(value='')))"
      ]
     },
     "metadata": {},
     "output_type": "display_data"
    }
   ],
   "source": [
    "classifier = pipeline(\"zero-shot-classification\",\n",
    "                      model=\"sentence-transformers/bert-base-nli-mean-tokens\")\n",
    "\n",
    "candidate_labels = ['macroeconomy', 'trade policy', 'foreign policy']\n"
   ]
  },
  {
   "cell_type": "code",
   "execution_count": 87,
   "metadata": {},
   "outputs": [
    {
     "name": "stdout",
     "output_type": "stream",
     "text": [
      "Current Time = 15:00:00\n"
     ]
    }
   ],
   "source": [
    "from datetime import datetime\n",
    "\n",
    "now = datetime.now()\n",
    "\n",
    "current_time = now.strftime(\"%H:%M:%S\")\n",
    "print(\"Current Time =\", current_time)"
   ]
  },
  {
   "cell_type": "code",
   "execution_count": 94,
   "metadata": {},
   "outputs": [],
   "source": [
    "import pandas\n",
    "\n",
    "texts = pandas.read_csv('sample_data.csv').dropna()\n",
    "sequences = texts.content\n"
   ]
  },
  {
   "cell_type": "code",
   "execution_count": 95,
   "metadata": {},
   "outputs": [],
   "source": [
    "results = []\n",
    "for i in range(len(sequences)):\n",
    "    result =  classifier(sequences.iloc[i], candidate_labels, multi_class=True)\n",
    "    results.append(result)"
   ]
  },
  {
   "cell_type": "code",
   "execution_count": 96,
   "metadata": {},
   "outputs": [],
   "source": [
    "df = pandas.concat([pandas.DataFrame.from_dict(result) for result in results])"
   ]
  },
  {
   "cell_type": "code",
   "execution_count": 97,
   "metadata": {},
   "outputs": [
    {
     "name": "stdout",
     "output_type": "stream",
     "text": [
      "Current Time = 15:04:56\n"
     ]
    }
   ],
   "source": [
    "from datetime import datetime\n",
    "\n",
    "now = datetime.now()\n",
    "\n",
    "current_time = now.strftime(\"%H:%M:%S\")\n",
    "print(\"Current Time =\", current_time)"
   ]
  },
  {
   "cell_type": "code",
   "execution_count": 98,
   "metadata": {},
   "outputs": [
    {
     "data": {
      "text/html": [
       "<div>\n",
       "<style scoped>\n",
       "    .dataframe tbody tr th:only-of-type {\n",
       "        vertical-align: middle;\n",
       "    }\n",
       "\n",
       "    .dataframe tbody tr th {\n",
       "        vertical-align: top;\n",
       "    }\n",
       "\n",
       "    .dataframe thead th {\n",
       "        text-align: right;\n",
       "    }\n",
       "</style>\n",
       "<table border=\"1\" class=\"dataframe\">\n",
       "  <thead>\n",
       "    <tr style=\"text-align: right;\">\n",
       "      <th></th>\n",
       "      <th>sequence</th>\n",
       "      <th>labels</th>\n",
       "      <th>scores</th>\n",
       "    </tr>\n",
       "  </thead>\n",
       "  <tbody>\n",
       "    <tr>\n",
       "      <th>0</th>\n",
       "      <td>\\nThere is an EU blacklist banning certain int...</td>\n",
       "      <td>macroeconomy</td>\n",
       "      <td>0.612610</td>\n",
       "    </tr>\n",
       "    <tr>\n",
       "      <th>1</th>\n",
       "      <td>\\nThere is an EU blacklist banning certain int...</td>\n",
       "      <td>foreign policy</td>\n",
       "      <td>0.593786</td>\n",
       "    </tr>\n",
       "    <tr>\n",
       "      <th>2</th>\n",
       "      <td>\\nThere is an EU blacklist banning certain int...</td>\n",
       "      <td>trade policy</td>\n",
       "      <td>0.585419</td>\n",
       "    </tr>\n",
       "    <tr>\n",
       "      <th>0</th>\n",
       "      <td>\\nAccording to recent news reports, Adnan Rash...</td>\n",
       "      <td>foreign policy</td>\n",
       "      <td>0.529376</td>\n",
       "    </tr>\n",
       "    <tr>\n",
       "      <th>1</th>\n",
       "      <td>\\nAccording to recent news reports, Adnan Rash...</td>\n",
       "      <td>macroeconomy</td>\n",
       "      <td>0.518475</td>\n",
       "    </tr>\n",
       "    <tr>\n",
       "      <th>...</th>\n",
       "      <td>...</td>\n",
       "      <td>...</td>\n",
       "      <td>...</td>\n",
       "    </tr>\n",
       "    <tr>\n",
       "      <th>1</th>\n",
       "      <td>\\nPromoting the development of digital televis...</td>\n",
       "      <td>foreign policy</td>\n",
       "      <td>0.499938</td>\n",
       "    </tr>\n",
       "    <tr>\n",
       "      <th>2</th>\n",
       "      <td>\\nPromoting the development of digital televis...</td>\n",
       "      <td>trade policy</td>\n",
       "      <td>0.473558</td>\n",
       "    </tr>\n",
       "    <tr>\n",
       "      <th>0</th>\n",
       "      <td>\\nThe Commission has just published the result...</td>\n",
       "      <td>macroeconomy</td>\n",
       "      <td>0.498477</td>\n",
       "    </tr>\n",
       "    <tr>\n",
       "      <th>1</th>\n",
       "      <td>\\nThe Commission has just published the result...</td>\n",
       "      <td>foreign policy</td>\n",
       "      <td>0.498061</td>\n",
       "    </tr>\n",
       "    <tr>\n",
       "      <th>2</th>\n",
       "      <td>\\nThe Commission has just published the result...</td>\n",
       "      <td>trade policy</td>\n",
       "      <td>0.478016</td>\n",
       "    </tr>\n",
       "  </tbody>\n",
       "</table>\n",
       "<p>330 rows × 3 columns</p>\n",
       "</div>"
      ],
      "text/plain": [
       "                                             sequence          labels  \\\n",
       "0   \\nThere is an EU blacklist banning certain int...    macroeconomy   \n",
       "1   \\nThere is an EU blacklist banning certain int...  foreign policy   \n",
       "2   \\nThere is an EU blacklist banning certain int...    trade policy   \n",
       "0   \\nAccording to recent news reports, Adnan Rash...  foreign policy   \n",
       "1   \\nAccording to recent news reports, Adnan Rash...    macroeconomy   \n",
       "..                                                ...             ...   \n",
       "1   \\nPromoting the development of digital televis...  foreign policy   \n",
       "2   \\nPromoting the development of digital televis...    trade policy   \n",
       "0   \\nThe Commission has just published the result...    macroeconomy   \n",
       "1   \\nThe Commission has just published the result...  foreign policy   \n",
       "2   \\nThe Commission has just published the result...    trade policy   \n",
       "\n",
       "      scores  \n",
       "0   0.612610  \n",
       "1   0.593786  \n",
       "2   0.585419  \n",
       "0   0.529376  \n",
       "1   0.518475  \n",
       "..       ...  \n",
       "1   0.499938  \n",
       "2   0.473558  \n",
       "0   0.498477  \n",
       "1   0.498061  \n",
       "2   0.478016  \n",
       "\n",
       "[330 rows x 3 columns]"
      ]
     },
     "execution_count": 98,
     "metadata": {},
     "output_type": "execute_result"
    }
   ],
   "source": [
    "df"
   ]
  }
 ],
 "metadata": {
  "kernelspec": {
   "display_name": "Python 3",
   "language": "python",
   "name": "python3"
  },
  "language_info": {
   "codemirror_mode": {
    "name": "ipython",
    "version": 3
   },
   "file_extension": ".py",
   "mimetype": "text/x-python",
   "name": "python",
   "nbconvert_exporter": "python",
   "pygments_lexer": "ipython3",
   "version": "3.8.2"
  }
 },
 "nbformat": 4,
 "nbformat_minor": 4
}
