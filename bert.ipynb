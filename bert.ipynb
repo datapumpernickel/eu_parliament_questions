{
 "cells": [
  {
   "cell_type": "code",
   "execution_count": 28,
   "metadata": {},
   "outputs": [],
   "source": [
    "from bertopic import BERTopic\n",
    "import pandas as pd"
   ]
  },
  {
   "cell_type": "code",
   "execution_count": 3,
   "metadata": {},
   "outputs": [],
   "source": [
    "texts = pd.read_csv('all_question_texts.csv')"
   ]
  },
  {
   "cell_type": "code",
   "execution_count": null,
   "metadata": {},
   "outputs": [],
   "source": [
    "texts.head()"
   ]
  },
  {
   "cell_type": "code",
   "execution_count": null,
   "metadata": {},
   "outputs": [],
   "source": [
    "topic_model = BERTopic(verbose=True)\n",
    "topics, _ = topic_model.fit_transform(texts.content[0:1000])"
   ]
  },
  {
   "cell_type": "code",
   "execution_count": null,
   "metadata": {},
   "outputs": [],
   "source": [
    "topic_model.visualize_topics()"
   ]
  },
  {
   "cell_type": "code",
   "execution_count": null,
   "metadata": {},
   "outputs": [],
   "source": []
  },
  {
   "cell_type": "code",
   "execution_count": 4,
   "metadata": {},
   "outputs": [
    {
     "name": "stderr",
     "output_type": "stream",
     "text": [
      "Some weights of the model checkpoint at facebook/bart-large-mnli were not used when initializing BartModel: ['model.encoder.version', 'model.decoder.version']\n",
      "- This IS expected if you are initializing BartModel from the checkpoint of a model trained on another task or with another architecture (e.g. initializing a BertForSequenceClassification model from a BertForPreTraining model).\n",
      "- This IS NOT expected if you are initializing BartModel from the checkpoint of a model that you expect to be exactly identical (initializing a BertForSequenceClassification model from a BertForSequenceClassification model).\n",
      "Some weights of the model checkpoint at facebook/bart-large-mnli were not used when initializing BartForSequenceClassification: ['model.encoder.version', 'model.decoder.version']\n",
      "- This IS expected if you are initializing BartForSequenceClassification from the checkpoint of a model trained on another task or with another architecture (e.g. initializing a BertForSequenceClassification model from a BertForPreTraining model).\n",
      "- This IS NOT expected if you are initializing BartForSequenceClassification from the checkpoint of a model that you expect to be exactly identical (initializing a BertForSequenceClassification model from a BertForSequenceClassification model).\n"
     ]
    }
   ],
   "source": [
    "from transformers import pipeline\n",
    "classifier = pipeline(\"zero-shot-classification\",\n",
    "                      model=\"facebook/bart-large-mnli\")"
   ]
  },
  {
   "cell_type": "code",
   "execution_count": 5,
   "metadata": {},
   "outputs": [
    {
     "data": {
      "text/plain": [
       "{'sequence': '\\nWhat is the state of proceedings in the CHAP(2012)02494 case?\\nHave proceedings been concluded, and what conclusions and arrangements\\xa0did the Commission reach in the case?',\n",
       " 'labels': ['macroeconomy', 'trade policy', 'foreign policy'],\n",
       " 'scores': [0.5489516854286194, 0.22654235363006592, 0.22450602054595947]}"
      ]
     },
     "execution_count": 5,
     "metadata": {},
     "output_type": "execute_result"
    }
   ],
   "source": [
    "\n",
    "candidate_labels = ['macroeconomy', 'trade policy', 'foreign policy']\n",
    "classifier(texts.content[1], candidate_labels)"
   ]
  },
  {
   "cell_type": "code",
   "execution_count": 6,
   "metadata": {},
   "outputs": [
    {
     "name": "stderr",
     "output_type": "stream",
     "text": [
      "Some weights of the model checkpoint at facebook/bart-large-mnli were not used when initializing BartModel: ['model.encoder.version', 'model.decoder.version']\n",
      "- This IS expected if you are initializing BartModel from the checkpoint of a model trained on another task or with another architecture (e.g. initializing a BertForSequenceClassification model from a BertForPreTraining model).\n",
      "- This IS NOT expected if you are initializing BartModel from the checkpoint of a model that you expect to be exactly identical (initializing a BertForSequenceClassification model from a BertForSequenceClassification model).\n",
      "Some weights of the model checkpoint at facebook/bart-large-mnli were not used when initializing BartForSequenceClassification: ['model.encoder.version', 'model.decoder.version']\n",
      "- This IS expected if you are initializing BartForSequenceClassification from the checkpoint of a model trained on another task or with another architecture (e.g. initializing a BertForSequenceClassification model from a BertForPreTraining model).\n",
      "- This IS NOT expected if you are initializing BartForSequenceClassification from the checkpoint of a model that you expect to be exactly identical (initializing a BertForSequenceClassification model from a BertForSequenceClassification model).\n"
     ]
    }
   ],
   "source": [
    "from transformers import pipeline\n",
    "candidate_labels = ['macroeconomy', 'trade policy', 'foreign policy']\n",
    "\n",
    "classifier = pipeline(\"zero-shot-classification\",\n",
    "                      model=\"facebook/bart-large-mnli\")\n",
    "\n"
   ]
  },
  {
   "cell_type": "code",
   "execution_count": 8,
   "metadata": {},
   "outputs": [
    {
     "data": {
      "text/plain": [
       "list"
      ]
     },
     "execution_count": 8,
     "metadata": {},
     "output_type": "execute_result"
    }
   ],
   "source": [
    "results"
   ]
  },
  {
   "cell_type": "code",
   "execution_count": 36,
   "metadata": {},
   "outputs": [],
   "source": [
    "batch_size = 1 # see how big you can make this number before OOM\n",
    "\n",
    "sequences = texts.content[100:104]\n",
    "\n",
    "results = []\n",
    "for i in range(100,104):\n",
    "    result =  classifier(sequences[i], candidate_labels, multi_class=True)\n",
    "    results.append(result)"
   ]
  },
  {
   "cell_type": "code",
   "execution_count": 16,
   "metadata": {},
   "outputs": [],
   "source": [
    "results = classifier(sequences[1], candidate_labels, multi_class=True)"
   ]
  },
  {
   "cell_type": "code",
   "execution_count": 41,
   "metadata": {},
   "outputs": [
    {
     "ename": "AttributeError",
     "evalue": "module 'pandas' has no attribute 'Dataframe'",
     "output_type": "error",
     "traceback": [
      "\u001b[0;31m---------------------------------------------------------------------------\u001b[0m",
      "\u001b[0;31mAttributeError\u001b[0m                            Traceback (most recent call last)",
      "\u001b[0;32m<ipython-input-41-25d2876f8871>\u001b[0m in \u001b[0;36m<module>\u001b[0;34m\u001b[0m\n\u001b[1;32m      1\u001b[0m \u001b[0;32mimport\u001b[0m \u001b[0mpandas\u001b[0m \u001b[0;32mas\u001b[0m \u001b[0mpd\u001b[0m\u001b[0;34m\u001b[0m\u001b[0;34m\u001b[0m\u001b[0m\n\u001b[0;32m----> 2\u001b[0;31m \u001b[0mnew\u001b[0m \u001b[0;34m=\u001b[0m \u001b[0mpd\u001b[0m\u001b[0;34m.\u001b[0m\u001b[0mDataframe\u001b[0m\u001b[0;34m(\u001b[0m\u001b[0mresults\u001b[0m\u001b[0;34m)\u001b[0m\u001b[0;34m\u001b[0m\u001b[0;34m\u001b[0m\u001b[0m\n\u001b[0m",
      "\u001b[0;32m~/opt/anaconda3/lib/python3.8/site-packages/pandas/__init__.py\u001b[0m in \u001b[0;36m__getattr__\u001b[0;34m(name)\u001b[0m\n\u001b[1;32m    242\u001b[0m         \u001b[0;32mreturn\u001b[0m \u001b[0m_SparseArray\u001b[0m\u001b[0;34m\u001b[0m\u001b[0;34m\u001b[0m\u001b[0m\n\u001b[1;32m    243\u001b[0m \u001b[0;34m\u001b[0m\u001b[0m\n\u001b[0;32m--> 244\u001b[0;31m     \u001b[0;32mraise\u001b[0m \u001b[0mAttributeError\u001b[0m\u001b[0;34m(\u001b[0m\u001b[0;34mf\"module 'pandas' has no attribute '{name}'\"\u001b[0m\u001b[0;34m)\u001b[0m\u001b[0;34m\u001b[0m\u001b[0;34m\u001b[0m\u001b[0m\n\u001b[0m\u001b[1;32m    245\u001b[0m \u001b[0;34m\u001b[0m\u001b[0m\n\u001b[1;32m    246\u001b[0m \u001b[0;34m\u001b[0m\u001b[0m\n",
      "\u001b[0;31mAttributeError\u001b[0m: module 'pandas' has no attribute 'Dataframe'"
     ]
    }
   ],
   "source": [
    "import pandas as pd\n",
    "new = pd.Dataframe(results)"
   ]
  },
  {
   "cell_type": "raw",
   "metadata": {},
   "source": [
    "results"
   ]
  },
  {
   "cell_type": "code",
   "execution_count": 38,
   "metadata": {},
   "outputs": [
    {
     "name": "stdout",
     "output_type": "stream",
     "text": [
      "[{'sequence': '\\nOn Wednesday,\\xa019\\xa0December\\xa02013, the United Nations General Assembly adopted a resolution calling on states which use drone strikes as a counter-terrorism measure to comply with international law. \\nThis call to regulate the use of drones against suspected terrorists was part of the resolution entitled ‘Protection of human rights and fundamental freedoms while countering terrorism’.\\nThe Assembly underscored the ‘urgent and imperative’ need for an agreement among member states on legal questions about drone operations.\\nThe resolution urged states to ‘ensure that any measures taken or means employed to counter terrorism, including the use of remotely piloted aircraft, comply with their obligations under international law, including the Charter of the United Nations, human rights law and international humanitarian law, in particular the principles of distinction and proportionality’.\\nThe text also encouraged ‘states while countering terrorism to undertake prompt, independent and impartial fact-finding inquiries whenever there are plausible indications of possible breaches to their obligations under international human rights law, with a view to ensuring accountability’.\\nIs the Vice-President/High Representative aware of this resolution?\\nWhat is the Vice-President/High Representative’s position on the recommendation set forth in the resolution?\\nAside from the policy framework, what does the Vice-President/High Representative intend to do (see answer to Written Question E-009942/2013) and will the Vice-President/High Representative consider preparing a policy on the use of drones by military and police forces?\\nWill the Vice-President/High Representative encourage the Member States to take into account the recommendations set out in the above resolution?', 'labels': ['foreign policy', 'macroeconomy', 'trade policy'], 'scores': [0.7704899907112122, 0.241236612200737, 0.14254194498062134]}, {'sequence': '\\nIn the early part of 2015, 20 hedge funds — including JP Morgan Securities and Quantum Partners — attacked Greek banks. Taking advantage of the European Central Bank’s regular threats that liquidity to Greek banks could be cut off, the funds speculated using the ‘naked short selling’ method. The Greek financial services authority (the Hellenic Capital Market Commission) handed out fines to all of the funds, ranging from EUR\\xa010\\xa0000 to EUR\\xa0460\\xa0000. To avoid a repetition of this situation, the Alternative Investment Management Association (AIMA), the hedge funds’ lobby group, is now trying to blow a hole in the\\xa0EU rules on ‘short selling’ so that they can escape similar blocks and sanctions in the future. This is clearly established in documents obtained by the Corporate Europe Observatory from the\\xa0EU financial regulation agency, the European Securities and Markets Authority (ESMA)(1),(2).\\nThe Commission is asked to answer the following:\\n—\\nHow does it view the hedge funds’ activities and the reaction of the Greek Government during the period in question?\\n—\\nDoes it intend to enhance current legislation with regard to the naked short selling of stocks across the\\xa0EU, so that Member States and citizens are protected from speculators’ actions? If so, how?\\n(1)http://www.corporateeurope.org/financial-lobby/2015/12/hedge-funds-vs-greece-lobbyists-want-cheap-ticket-speculation(2)http://corporateeurope.org/sites/default/files/attachments/15_665_access_to_information_request_contacts_with_the_hedge_fund_industry.pdf', 'labels': ['macroeconomy', 'foreign policy', 'trade policy'], 'scores': [0.4843904674053192, 0.17789362370967865, 0.08523131161928177]}, {'sequence': '\\nFrom the European Central Bank survey on ‘Household Finance and Consumption’(1) published last week, it emerges that, over the last few years, a widening gap between the richest and poorest countries of the Eurozone has been accompanied by growing social inequalities in each of them.\\nBetween 2010 and 2014, the share of wealth held by the top 5% rose. Over the same period, however, the average wealth of households in the euro area declined by around 10%. \\nAverage wealth declined by around 40% in Greece and Cyprus and by over 15% in Italy, Portugal and Spain. By contrast, in Germany it rose by 10% over the same period, while increases were also registered by Austria, Finland and Luxembourg. \\n\\nIn view of this:\\n—\\nWhat measures will the Commission take to reduce the growing inequalities between members of the euro area?\\n—\\nGiven the rising tide of euroscepticism, what measures does it consider necessary to reduce social inequalities in each of the Member States?\\n(1)https://www.ecb.europa.eu/pub/pdf/scpsps/ecbsp18.en.pdf?d2911394a25c444cd8d3db4b77e8891a', 'labels': ['macroeconomy', 'trade policy', 'foreign policy'], 'scores': [0.7451140284538269, 0.05305429920554161, 0.031908098608255386]}, {'sequence': '\\nWith the long-term European strategy for a climate-neutral economy, the Commission is setting out its vision of achieving climate neutrality by 2050 by means of a cost-effective, socially-acceptable transition. \\nFull decarbonisation is expected to cost EUR\\xa0290\\xa0billion a year. By contrast, positive effects of 2% of economic performance are expected to be felt by 2050. There will be a more than threefold increase in the price of CO2, and the rapid energy transition will result in an exodus of European industries and the loss of jobs.\\nThe economic and social impact on people is already apparent, for example in France, where there are protests against plans to finance and implement the energy transition by increasing taxes on fossil fuels. These will not be restricted to Europe’s carbon-intensive regions once industrial migration and job losses, driving bans, rising taxes and levies, higher network tariffs and much more become reality.\\n1.\\xa0Has the Commission put forward any specific potential solutions and programmes beyond the Just Transition Initiative which will ensure a socially-acceptable transition for EU citizen?\\n2.\\xa0Might there be a weakening of the EU’s convergence criteria if, in the future, countries such as France in its current situation use money from the state budget to support sections of the population?', 'labels': ['macroeconomy', 'trade policy', 'foreign policy'], 'scores': [0.7704055309295654, 0.38279658555984497, 0.060269176959991455]}]\n"
     ]
    }
   ],
   "source": [
    "print(results)"
   ]
  }
 ],
 "metadata": {
  "kernelspec": {
   "display_name": "Python 3",
   "language": "python",
   "name": "python3"
  },
  "language_info": {
   "codemirror_mode": {
    "name": "ipython",
    "version": 3
   },
   "file_extension": ".py",
   "mimetype": "text/x-python",
   "name": "python",
   "nbconvert_exporter": "python",
   "pygments_lexer": "ipython3",
   "version": "3.8.2"
  }
 },
 "nbformat": 4,
 "nbformat_minor": 4
}
